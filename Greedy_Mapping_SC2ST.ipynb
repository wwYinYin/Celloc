{
 "cells": [
  {
   "cell_type": "code",
   "execution_count": 1,
   "metadata": {},
   "outputs": [
    {
     "data": {
      "text/html": [
       "<style type='text/css'>\n",
       ".datatable table.frame { margin-bottom: 0; }\n",
       ".datatable table.frame thead { border-bottom: none; }\n",
       ".datatable table.frame tr.coltypes td {  color: #FFFFFF;  line-height: 6px;  padding: 0 0.5em;}\n",
       ".datatable .bool    { background: #DDDD99; }\n",
       ".datatable .object  { background: #565656; }\n",
       ".datatable .int     { background: #5D9E5D; }\n",
       ".datatable .float   { background: #4040CC; }\n",
       ".datatable .str     { background: #CC4040; }\n",
       ".datatable .row_index {  background: var(--jp-border-color3);  border-right: 1px solid var(--jp-border-color0);  color: var(--jp-ui-font-color3);  font-size: 9px;}\n",
       ".datatable .frame tr.coltypes .row_index {  background: var(--jp-border-color0);}\n",
       ".datatable th:nth-child(2) { padding-left: 12px; }\n",
       ".datatable .hellipsis {  color: var(--jp-cell-editor-border-color);}\n",
       ".datatable .vellipsis {  background: var(--jp-layout-color0);  color: var(--jp-cell-editor-border-color);}\n",
       ".datatable .na {  color: var(--jp-cell-editor-border-color);  font-size: 80%;}\n",
       ".datatable .footer { font-size: 9px; }\n",
       ".datatable .frame_dimensions {  background: var(--jp-border-color3);  border-top: 1px solid var(--jp-border-color0);  color: var(--jp-ui-font-color3);  display: inline-block;  opacity: 0.6;  padding: 1px 10px 1px 5px;}\n",
       "</style>\n"
      ],
      "text/plain": [
       "<IPython.core.display.HTML object>"
      ]
     },
     "metadata": {},
     "output_type": "display_data"
    }
   ],
   "source": [
    "import pandas as pd\n",
    "import numpy as np\n",
    "import random\n",
    "import os\n",
    "from Celloc.common import read_data,sample_single_cells,plot_results_bulk_ST_by_spot,estimate_cell_number_RNA_reads\n",
    "import matplotlib.pyplot as plt\n",
    "import scanpy as sc\n",
    "import sys\n",
    "from Celloc import CELLOC\n",
    "import anndata as ad"
   ]
  },
  {
   "cell_type": "markdown",
   "metadata": {},
   "source": [
    "Load data"
   ]
  },
  {
   "cell_type": "code",
   "execution_count": 2,
   "metadata": {},
   "outputs": [],
   "source": [
    "scRNA_path=\"./data/DCIS1/sc_RNA_DCIS1.h5ad\"\n",
    "cell_type_path=None\n",
    "st_path=\"./data/DCIS1/spatial_DCIS1.h5ad\"\n",
    "coordinates_path=None\n",
    "mean_cell_numbers=5\n",
    "output_folder=\"./Celloc_output/\""
   ]
  },
  {
   "cell_type": "code",
   "execution_count": 3,
   "metadata": {},
   "outputs": [],
   "source": [
    "# scRNA_path=\"./data/melanoma/melanoma_scRNA_GEP.txt\"\n",
    "# cell_type_path=\"./data/melanoma/melanoma_scRNA_celllabels.txt\"\n",
    "# st_path=\"./data/melanoma/melanoma_STdata_slide1_GEP.txt\"\n",
    "# coordinates_path=\"./data/melanoma/melanoma_STdata_slide1_coordinates.txt\"\n",
    "# cell_type_numbers_estimation_path='./data/melanoma/cell_type_number_setimate.csv'"
   ]
  },
  {
   "cell_type": "code",
   "execution_count": 4,
   "metadata": {},
   "outputs": [],
   "source": [
    "celltype_col='CellType'\n",
    "\n",
    "# Read the data from the specified paths\n",
    "# sc_adata: single-cell RNA-seq data\n",
    "# spatial_adata: spatial transcriptomics data\n",
    "# cell_type_number_eachspot_data: estimated number of each cell type in each spot\n",
    "# coordinates_data: coordinates of each spot\n",
    "sc_adata, spatial_adata, coordinates_data =\\\n",
    "        read_data(scRNA_path, cell_type_path, st_path, coordinates_path,celltype_col)\n",
    "\n",
    "# Extract the cell type information from the single-cell data\n",
    "# Rename the index and the 'CellType' column for clarity\n",
    "cell_type=pd.DataFrame(sc_adata.obs['CellType'])\n",
    "cell_type.index = [str(idx)[5:] for idx in cell_type.index]\n",
    "cell_type['CellType'] = [str(idx)[5:] for idx in cell_type['CellType']]\n",
    "\n",
    "# Calculate the total number of cells in each spot\n",
    "# Convert the results to integers\n",
    "cell_number_to_node_assignment = estimate_cell_number_RNA_reads(spatial_adata.to_df().T, int(mean_cell_numbers))"
   ]
  },
  {
   "cell_type": "code",
   "execution_count": 5,
   "metadata": {},
   "outputs": [],
   "source": [
    "# Filter out genes that are expressed in less than 1 cell in the single-cell data\n",
    "sc.pp.filter_genes(sc_adata, min_cells=1)\n",
    "\n",
    "# Filter out genes that are expressed in less than 1 cell in the spatial data\n",
    "sc.pp.filter_genes(spatial_adata, min_cells=1)\n",
    "\n",
    "# Find the intersection of the gene lists from the single-cell and spatial data\n",
    "intersect_genes = list(set(sc_adata.var_names) & set(spatial_adata.var_names))\n",
    "\n",
    "# Subset the single-cell and spatial data to only include the intersecting genes\n",
    "sc_adata = sc_adata[:,intersect_genes]\n",
    "spatial_adata = spatial_adata[:,intersect_genes]"
   ]
  },
  {
   "cell_type": "code",
   "execution_count": 6,
   "metadata": {},
   "outputs": [
    {
     "name": "stderr",
     "output_type": "stream",
     "text": [
      "/root/.conda/envs/ywbio/lib/python3.8/site-packages/scanpy/preprocessing/_normalization.py:170: UserWarning: Received a view of an AnnData. Making a copy.\n",
      "  view_to_actual(adata)\n"
     ]
    },
    {
     "name": "stdout",
     "output_type": "stream",
     "text": [
      "AnnData object with n_obs × n_vars = 3587 × 19840\n",
      "    obs: 'orig.ident', 'nCount_RNA', 'nFeature_RNA', 'RNA_snn_res.1', 'seurat_clusters', 'cell_type', 'CellType'\n",
      "    var: 'n_cells'\n",
      "    uns: 'log1p', 'pca'\n",
      "    obsm: 'X_pca'\n",
      "    varm: 'PCs'\n",
      "AnnData object with n_obs × n_vars = 1567 × 19840\n",
      "    obs: 'in_tissue', 'array_row', 'array_col'\n",
      "    var: 'gene_ids', 'feature_types', 'genome', 'n_cells'\n",
      "    uns: 'spatial', 'log1p'\n",
      "    obsm: 'spatial'\n"
     ]
    }
   ],
   "source": [
    "# Normalize the total counts in each cell in the single-cell data to 1e6\n",
    "sc.pp.normalize_total(sc_adata,target_sum=10**6)\n",
    "\n",
    "# Log-transform the data in the single-cell data\n",
    "sc.pp.log1p(sc_adata)\n",
    "\n",
    "# Normalize the total counts in each cell in the spatial data to 1e6\n",
    "sc.pp.normalize_total(spatial_adata,target_sum=10**6)\n",
    "\n",
    "# Log-transform the data in the spatial data\n",
    "sc.pp.log1p(spatial_adata)\n",
    "\n",
    "# Perform PCA on the single-cell data, keeping the first 50 principal components\n",
    "sc.tl.pca(sc_adata,n_comps=50)\n",
    "\n",
    "print(sc_adata)\n",
    "print(spatial_adata)"
   ]
  },
  {
   "cell_type": "code",
   "execution_count": 7,
   "metadata": {},
   "outputs": [
    {
     "name": "stdout",
     "output_type": "stream",
     "text": [
      "cuda\n",
      "expression_term: 2.821, space_term: 0.284, density_term: 0.243\n",
      "expression_term: 1.557, space_term: 0.293, density_term: 0.423\n",
      "expression_term: 1.493, space_term: 0.292, density_term: 0.456\n",
      "expression_term: 1.476, space_term: 0.290, density_term: 0.454\n",
      "expression_term: 1.469, space_term: 0.287, density_term: 0.450\n",
      "expression_term: 1.461, space_term: 0.281, density_term: 0.448\n",
      "expression_term: 1.454, space_term: 0.271, density_term: 0.447\n",
      "expression_term: 1.449, space_term: 0.257, density_term: 0.449\n",
      "expression_term: 1.445, space_term: 0.244, density_term: 0.450\n",
      "expression_term: 1.442, space_term: 0.234, density_term: 0.452\n",
      "expression_term: 1.439, space_term: 0.227, density_term: 0.454\n",
      "expression_term: 1.436, space_term: 0.223, density_term: 0.455\n",
      "expression_term: 1.434, space_term: 0.220, density_term: 0.456\n",
      "expression_term: 1.432, space_term: 0.217, density_term: 0.457\n",
      "expression_term: 1.429, space_term: 0.215, density_term: 0.457\n",
      "expression_term: 1.427, space_term: 0.214, density_term: 0.458\n",
      "expression_term: 1.426, space_term: 0.212, density_term: 0.458\n",
      "expression_term: 1.424, space_term: 0.211, density_term: 0.459\n",
      "expression_term: 1.422, space_term: 0.210, density_term: 0.459\n",
      "expression_term: 1.421, space_term: 0.209, density_term: 0.459\n",
      "expression_term: 1.419, space_term: 0.208, density_term: 0.459\n",
      "expression_term: 1.418, space_term: 0.207, density_term: 0.460\n",
      "expression_term: 1.416, space_term: 0.206, density_term: 0.460\n",
      "expression_term: 1.415, space_term: 0.205, density_term: 0.460\n",
      "expression_term: 1.413, space_term: 0.205, density_term: 0.460\n",
      "expression_term: 1.412, space_term: 0.205, density_term: 0.460\n",
      "expression_term: 1.411, space_term: 0.204, density_term: 0.460\n",
      "expression_term: 1.409, space_term: 0.204, density_term: 0.461\n",
      "expression_term: 1.408, space_term: 0.203, density_term: 0.461\n",
      "expression_term: 1.407, space_term: 0.203, density_term: 0.461\n",
      "expression_term: 1.406, space_term: 0.203, density_term: 0.461\n",
      "expression_term: 1.405, space_term: 0.203, density_term: 0.461\n",
      "expression_term: 1.404, space_term: 0.202, density_term: 0.461\n",
      "expression_term: 1.403, space_term: 0.202, density_term: 0.461\n",
      "expression_term: 1.402, space_term: 0.202, density_term: 0.461\n",
      "expression_term: 1.402, space_term: 0.202, density_term: 0.461\n",
      "expression_term: 1.401, space_term: 0.202, density_term: 0.461\n",
      "expression_term: 1.400, space_term: 0.202, density_term: 0.461\n",
      "expression_term: 1.399, space_term: 0.201, density_term: 0.461\n",
      "expression_term: 1.399, space_term: 0.201, density_term: 0.461\n",
      "expression_term: 1.398, space_term: 0.201, density_term: 0.461\n",
      "expression_term: 1.397, space_term: 0.201, density_term: 0.461\n",
      "expression_term: 1.397, space_term: 0.201, density_term: 0.461\n",
      "expression_term: 1.396, space_term: 0.201, density_term: 0.461\n",
      "expression_term: 1.395, space_term: 0.201, density_term: 0.462\n",
      "expression_term: 1.395, space_term: 0.201, density_term: 0.462\n",
      "expression_term: 1.395, space_term: 0.201, density_term: 0.462\n",
      "expression_term: 1.394, space_term: 0.201, density_term: 0.462\n",
      "expression_term: 1.394, space_term: 0.201, density_term: 0.462\n",
      "expression_term: 1.393, space_term: 0.201, density_term: 0.462\n"
     ]
    }
   ],
   "source": [
    "# Use the CELLOC library's paired_align function to align the single-cell data (sc_adata) and the spatial data (spatial_adata)\n",
    "# The initial guess for the number of cells in each spot (b_init) is provided by cell_number_to_node_assignment\n",
    "# The task is set to \"location_recovery\", which means the function will try to recover the location of each cell\n",
    "pi_sc_sp = CELLOC.paired_align(sc_adata, spatial_adata, b_init=cell_number_to_node_assignment, task=\"location_recovery\")\n",
    "\n",
    "# Convert the output of the paired_align function to a pandas DataFrame\n",
    "# The index is the cell names from the single-cell data, and the columns are the spot names from the spatial data\n",
    "sc_sp_map_df = pd.DataFrame(pi_sc_sp, index=sc_adata.obs_names, columns=spatial_adata.obs_names)"
   ]
  },
  {
   "cell_type": "code",
   "execution_count": 8,
   "metadata": {},
   "outputs": [
    {
     "name": "stdout",
     "output_type": "stream",
     "text": [
      "                             Predict CellType  predict_x  predict_y\n",
      "AAACCTGAGATCCCGC  GCACAAGTGTCGGAAG-1     NK/T        850       2306\n",
      "AAACCTGAGGGATGGG  TCTGCCAGAAACTGCA-1    Tumor       2465       1873\n",
      "AAACCTGCATAACCTG  ACGCGAAGTCAGACGA-1    Tumor       2875       2474\n",
      "AAACCTGGTTGTTTGG  GCTAACTGAAGTCTGA-1    Tumor       3351       1612\n",
      "AAACCTGTCACAATGC  TAATACTAGAACAGAC-1    Tumor       3920       1946\n",
      "...                              ...      ...        ...        ...\n",
      "TTTGTCACAGCCACCA  TCTGCCAGAAACTGCA-1    Tumor       2465       1873\n",
      "TTTGTCAGTAAGAGAG  ATTCACTGATGTTGGA-1    Tumor       3242       2209\n",
      "TTTGTCAGTAAGGATT  CCTCCCGACAATCCCT-1  Myeloid        797       2336\n",
      "TTTGTCATCACAGGCC  GCTAACTGAAGTCTGA-1    Tumor       3351       1612\n",
      "TTTGTCATCCGTCAAA  ATTTAACTCGTATTAC-1    Tumor       1054       2667\n",
      "\n",
      "[3587 rows x 4 columns]\n"
     ]
    }
   ],
   "source": [
    "# Remove the first 5 characters from the column and index names of the DataFrame\n",
    "sc_sp_map_df.columns = [str(col)[5:] for col in sc_sp_map_df.columns]\n",
    "sc_sp_map_df.index = [str(idx)[5:] for idx in sc_sp_map_df.index]\n",
    "\n",
    "# Find the column name with the maximum value for each row in the DataFrame\n",
    "# Convert the result to a DataFrame and rename the column to 'Predict'\n",
    "max_column_names = sc_sp_map_df.idxmax(axis=1).to_frame()\n",
    "max_column_names=max_column_names.rename(columns={0: 'Predict'})\n",
    "\n",
    "# Add a new column 'CellType' to the DataFrame and initialize it with 'type'\n",
    "max_column_names=max_column_names.assign(CellType='type')\n",
    "\n",
    "# For each row in the DataFrame, replace 'type' in the 'CellType' column with the actual cell type from the cell_type DataFrame\n",
    "for i,cell_id in enumerate(max_column_names.index.values):\n",
    "    max_column_names.iloc[i,-1]=cell_type.loc[cell_id][0]\n",
    "\n",
    "# Reindex the coordinates_data DataFrame based on the 'Predict' column of the max_column_names DataFrame\n",
    "# This gives the predicted coordinates for each cell\n",
    "predict_coordinates=coordinates_data.reindex(max_column_names['Predict'])\n",
    "\n",
    "# Add the predicted x and y coordinates to the max_column_names DataFrame\n",
    "max_column_names['predict_x']=predict_coordinates['X'].values\n",
    "max_column_names['predict_y']=predict_coordinates['Y'].values\n",
    "\n",
    "print(max_column_names)"
   ]
  },
  {
   "cell_type": "code",
   "execution_count": null,
   "metadata": {},
   "outputs": [],
   "source": [
    "assigned_locations_path = os.path.join(output_folder+\"location_recovery_results.csv\")\n",
    "max_column_names.to_csv(assigned_locations_path)"
   ]
  },
  {
   "cell_type": "code",
   "execution_count": null,
   "metadata": {},
   "outputs": [],
   "source": [
    "plot_results_bulk_ST_by_spot(assigned_locations=max_column_names, coordinates_data=coordinates_data, dir_out=output_folder, output_prefix=\"Celloc_location\")"
   ]
  }
 ],
 "metadata": {
  "kernelspec": {
   "display_name": "ywbio",
   "language": "python",
   "name": "python3"
  },
  "language_info": {
   "codemirror_mode": {
    "name": "ipython",
    "version": 3
   },
   "file_extension": ".py",
   "mimetype": "text/x-python",
   "name": "python",
   "nbconvert_exporter": "python",
   "pygments_lexer": "ipython3",
   "version": "3.8.16"
  }
 },
 "nbformat": 4,
 "nbformat_minor": 2
}
