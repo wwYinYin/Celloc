{
 "cells": [
  {
   "cell_type": "code",
   "execution_count": null,
   "metadata": {},
   "outputs": [],
   "source": [
    "import numpy as np\n",
    "import pandas as pd\n",
    "import scanpy as sc"
   ]
  },
  {
   "cell_type": "code",
   "execution_count": null,
   "metadata": {},
   "outputs": [],
   "source": [
    "Celloc_results = pd.read_csv('./Celloc_output/DCIS1/mapping_results.csv',index_col=0)\n",
    "print(Celloc_results)"
   ]
  },
  {
   "cell_type": "code",
   "execution_count": null,
   "metadata": {},
   "outputs": [],
   "source": [
    "print(Celloc_results['CellType'].value_counts())"
   ]
  },
  {
   "cell_type": "code",
   "execution_count": null,
   "metadata": {},
   "outputs": [],
   "source": [
    "st_adata=sc.read_h5ad(\"./data/DCIS1/spatial_DCIS1.h5ad\")\n",
    "\n",
    "sub_st_adata=st_adata[Celloc_results['Predict']]\n",
    "sub_st_adata.obs['celltype']=list(Celloc_results['CellType'])\n",
    "# sub_st_adata.obs['cell_type']=list(COMPASS_results['cell_type'])\n",
    "sub_st_adata.obsm['spatial']=sub_st_adata.obsm['spatial'].astype(float)\n",
    "\n",
    "coordinate_data=pd.DataFrame(sub_st_adata.obsm['spatial'],index=sub_st_adata.obs_names,columns=['x','y'])\n",
    "def rand_jitter(arr,interval):\n",
    "    return arr + np.random.uniform(-interval/3,interval/3,len(arr))\n",
    "x_interval = np.median(np.unique(np.diff(np.sort(np.unique(coordinate_data['x'])))))*2\n",
    "y_interval = np.median(np.unique(np.diff(np.sort(np.unique(coordinate_data['y'])))))*2\n",
    "coordinate_data['x'] = rand_jitter(coordinate_data['x'].values,x_interval)\n",
    "coordinate_data['y'] = rand_jitter(coordinate_data['y'].values,y_interval)\n",
    "sub_st_adata.obsm['spatial']=np.array(coordinate_data[['x','y']])\n",
    "\n",
    "sc.pl.spatial(sub_st_adata,spot_size=100,img_key='hires',color='celltype',alpha_img=0.6,save='Celloc_all_celltype.pdf',\n",
    "              palette=['#014480','#52B7D7','#AEB02F','#645396','#CF5298','#94ABC9','#1F7539','#EBA272','#C2508F'])"
   ]
  }
 ],
 "metadata": {
  "kernelspec": {
   "display_name": "ywbio",
   "language": "python",
   "name": "python3"
  },
  "language_info": {
   "name": "python",
   "version": "3.8.16"
  }
 },
 "nbformat": 4,
 "nbformat_minor": 2
}
