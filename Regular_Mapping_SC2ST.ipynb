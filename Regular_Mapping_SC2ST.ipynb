{
 "cells": [
  {
   "cell_type": "code",
   "execution_count": null,
   "metadata": {},
   "outputs": [],
   "source": [
    "import pandas as pd\n",
    "import numpy as np\n",
    "import random\n",
    "import os\n",
    "from Celloc.common import read_data,sample_single_cells,plot_results_bulk_ST_by_spot,estimate_cell_number_RNA_reads\n",
    "import matplotlib.pyplot as plt\n",
    "import scanpy as sc\n",
    "import sys\n",
    "from Celloc import CELLOC\n",
    "import anndata as ad"
   ]
  },
  {
   "cell_type": "markdown",
   "metadata": {},
   "source": [
    "# Load data"
   ]
  },
  {
   "cell_type": "markdown",
   "metadata": {},
   "source": [
    "Read simulated mouse cerebellum datasets"
   ]
  },
  {
   "cell_type": "code",
   "execution_count": null,
   "metadata": {},
   "outputs": [],
   "source": [
    "scRNA_path=\"./data/Cerebellum/scRNA/scRNA_Noise05.csv\"\n",
    "cell_type_path=\"./data/Cerebellum/scRNA/cell_labels.csv\"\n",
    "st_path=\"./data/Cerebellum/5/ST_expression.csv\"\n",
    "coordinates_path=\"./data/Cerebellum/5/Coordinates.csv\"\n",
    "output_folder=\"./Celloc_output/Cerebellum/\"\n",
    "mean_cell_numbers=5"
   ]
  },
  {
   "cell_type": "markdown",
   "metadata": {},
   "source": [
    "Read simulated mouse hippocampus datasets"
   ]
  },
  {
   "cell_type": "code",
   "execution_count": null,
   "metadata": {},
   "outputs": [],
   "source": [
    "# scRNA_path=\"./data/Hippocampus/scRNA/scRNA_Noise05.csv\"\n",
    "# cell_type_path=\"./data/Hippocampus/scRNA/cell_labels.csv\"\n",
    "# st_path=\"./data/Hippocampus/5/ST_expression.csv\"\n",
    "# coordinates_path=\"./data/Hippocampus/5/Coordinates.csv\"\n",
    "# mean_cell_numbers=5"
   ]
  },
  {
   "cell_type": "markdown",
   "metadata": {},
   "source": [
    "Read the HER2+ breast cancer scRNA-seq data and 10X Visium ST samples1/ST samples2"
   ]
  },
  {
   "cell_type": "code",
   "execution_count": null,
   "metadata": {},
   "outputs": [],
   "source": [
    "# scRNA_path=\"./data/breast_cancer1/brca_scRNA_GEP.txt\"\n",
    "# cell_type_path=\"./data/breast_cancer1/brca_scRNA_celllabels.txt\"\n",
    "\n",
    "## using 10X Visium ST samples1\n",
    "# st_path=\"./data/breast_cancer1/spatial.h5ad\"\n",
    "\n",
    "## using 10X Visium ST samples2\n",
    "# st_path=\"./data/breast_cancer2/spatial.h5ad\"\n",
    "\n",
    "# coordinates_path=None"
   ]
  },
  {
   "cell_type": "markdown",
   "metadata": {},
   "source": [
    "Read the DCIS1/DCIS2 datasets"
   ]
  },
  {
   "cell_type": "code",
   "execution_count": null,
   "metadata": {},
   "outputs": [],
   "source": [
    "## reading DCIS1\n",
    "# scRNA_path=\"./data/DCIS1/sc_RNA_DCIS1.h5ad\"\n",
    "# cell_type_path=None\n",
    "# st_path=\"./data/DCIS1/spatial_DCIS1.h5ad\"\n",
    "# coordinates_path=None\n",
    "\n",
    "## reading DCIS2\n",
    "# scRNA_path=\"./data/DCIS2/sc_RNA_DCIS2.h5ad\"\n",
    "# cell_type_path=None\n",
    "# st_path=\"./data/DCIS2/spatial_DCIS2.h5ad\"\n",
    "# coordinates_path=None\n",
    "# mean_cell_numbers=5"
   ]
  },
  {
   "cell_type": "markdown",
   "metadata": {},
   "source": [
    "Read the myocardial infarction scRNA-seq data and ST data"
   ]
  },
  {
   "cell_type": "code",
   "execution_count": null,
   "metadata": {},
   "outputs": [],
   "source": [
    "# scRNA_path=\"./data/heart_data/scfile.txt\"\n",
    "# cell_type_path=\"./data/heart_data/sclab.txt\"\n",
    "# st_path=\"./data/heart_data/spatial.h5ad\"\n",
    "# coordinates_path=None\n",
    "# celltype_col='ct'"
   ]
  },
  {
   "cell_type": "code",
   "execution_count": null,
   "metadata": {},
   "outputs": [],
   "source": [
    "celltype_col='CellType'\n",
    "\n",
    "# Read the data from the specified paths\n",
    "# sc_adata: single-cell RNA-seq data\n",
    "# spatial_adata: spatial transcriptomics data\n",
    "# cell_type_number_eachspot_data: estimated number of each cell type in each spot\n",
    "# coordinates_data: coordinates of each spot\n",
    "sc_adata, spatial_adata, coordinates_data =\\\n",
    "        read_data(scRNA_path, cell_type_path, st_path, coordinates_path,celltype_col)\n",
    "\n",
    "# Extract the cell type information from the single-cell data\n",
    "# Rename the index and the 'CellType' column for clarity\n",
    "cell_type=pd.DataFrame(sc_adata.obs['CellType'])\n",
    "cell_type.index = [str(idx)[5:] for idx in cell_type.index]\n",
    "cell_type['CellType'] = [str(idx)[5:] for idx in cell_type['CellType']]\n",
    "\n",
    "# estimate the number of cells in each spot\n",
    "cell_number_to_node_assignment=estimate_cell_number_RNA_reads(spatial_adata.to_df().T, int(mean_cell_numbers))"
   ]
  },
  {
   "cell_type": "code",
   "execution_count": null,
   "metadata": {},
   "outputs": [],
   "source": [
    "# Filter out genes that are expressed in less than 1 cell in the single-cell data\n",
    "sc.pp.filter_genes(sc_adata, min_cells=1)\n",
    "\n",
    "# Filter out genes that are expressed in less than 1 cell in the spatial data\n",
    "sc.pp.filter_genes(spatial_adata, min_cells=1)\n",
    "\n",
    "# Find the intersection of the gene lists from the single-cell and spatial data\n",
    "intersect_genes = list(set(sc_adata.var_names) & set(spatial_adata.var_names))\n",
    "\n",
    "# Subset the single-cell and spatial data to only include the intersecting genes\n",
    "sc_adata = sc_adata[:,intersect_genes]\n",
    "spatial_adata = spatial_adata[:,intersect_genes]"
   ]
  },
  {
   "cell_type": "code",
   "execution_count": null,
   "metadata": {},
   "outputs": [],
   "source": [
    "# Normalize the total counts in each cell in the sampled single-cell data to 1e6\n",
    "sc.pp.normalize_total(sc_adata,target_sum=10**6)\n",
    "\n",
    "# Log-transform the data in the sampled single-cell data\n",
    "sc.pp.log1p(sc_adata)\n",
    "\n",
    "# Normalize the total counts in each cell in the spatial data to 1e6\n",
    "sc.pp.normalize_total(spatial_adata,target_sum=10**6)\n",
    "\n",
    "# Log-transform the data in the spatial data\n",
    "sc.pp.log1p(spatial_adata)\n",
    "\n",
    "# Perform PCA on the sampled single-cell data, keeping the first 50 principal components\n",
    "sc.tl.pca(sc_adata,n_comps=50)\n",
    "\n",
    "print(sc_adata)\n",
    "print(spatial_adata)"
   ]
  },
  {
   "cell_type": "code",
   "execution_count": null,
   "metadata": {},
   "outputs": [],
   "source": [
    "# Use the CELLOC library's paired_align function to align the sampled single-cell data (sc_adata_sampled) and the spatial data (spatial_adata)\n",
    "# The initial guess for the number of cells in each spot (b_init) is provided by cell_number_to_node_assignment\n",
    "# The task is set to \"mapping\", which means the function will try to map single cell to a spot\n",
    "pi_sc_sp = CELLOC.paired_align(sc_adata, spatial_adata, b_init=cell_number_to_node_assignment, task=\"mapping\")\n",
    "\n",
    "# Convert the output of the paired_align function to a pandas DataFrame\n",
    "# The index is the cell names from the sampled single-cell data, and the columns are the spot names from the spatial data\n",
    "sc_sp_map_df = pd.DataFrame(pi_sc_sp, index=sc_adata.obs_names, columns=spatial_adata.obs_names)"
   ]
  },
  {
   "cell_type": "code",
   "execution_count": null,
   "metadata": {},
   "outputs": [],
   "source": [
    "# Remove the first 5 characters from the column and index names of the DataFrame\n",
    "sc_sp_map_df.columns = [str(col)[5:] for col in sc_sp_map_df.columns]\n",
    "sc_sp_map_df.index = [str(idx)[5:] for idx in sc_sp_map_df.index]\n",
    "\n",
    "# Initialize an empty dictionary to store the results\n",
    "result_dict = {}\n",
    "\n",
    "# For each column in the DataFrame, find the cell names with the highest values\n",
    "# The number of cell names to find is determined by cell_number_to_node_assignment\n",
    "# Store the results in the result_dict dictionary\n",
    "for i, column in enumerate(sc_sp_map_df.columns.values):\n",
    "    result_dict[column] = sc_sp_map_df[column].nlargest(cell_number_to_node_assignment[i]).index\n",
    "\n",
    "# Convert the result_dict dictionary to a DataFrame\n",
    "# The 'Predict' column contains the spot names, and the 'Values' column contains the cell names\n",
    "# The 'Values' column is exploded so that each cell name has its own row\n",
    "max_column_names = pd.DataFrame({'Predict': list(result_dict.keys()), 'Values': [list(index_obj) for index_obj in result_dict.values()]}).explode('Values')\n",
    "\n",
    "# Convert the cell names in the 'Values' column to strings\n",
    "max_column_names['Values'] = max_column_names['Values'].astype(str)\n",
    "\n",
    "# Set the 'Values' column as the index of the DataFrame\n",
    "max_column_names = max_column_names.set_index('Values')\n",
    "\n",
    "# Add a new column 'CellType' to the DataFrame and initialize it with 'type'\n",
    "max_column_names=max_column_names.assign(CellType='type')\n",
    "\n",
    "# Remove rows where the index is \"nan\"\n",
    "max_column_names = max_column_names[max_column_names.index!=\"nan\"]\n",
    "\n",
    "# For each row in the DataFrame, replace 'type' in the 'CellType' column with the actual cell type from the cell_type DataFrame\n",
    "for i,cell_id in enumerate(max_column_names.index.values):\n",
    "    max_column_names.iloc[i,-1]=cell_type.loc[cell_id][0]\n",
    "\n",
    "# Reindex the coordinates_data DataFrame based on the 'Predict' column of the max_column_names DataFrame\n",
    "# This gives the predicted coordinates for each cell\n",
    "predict_coordinates=coordinates_data.reindex(max_column_names['Predict'])\n",
    "\n",
    "# Add the predicted x and y coordinates to the max_column_names DataFrame\n",
    "max_column_names['predict_x']=predict_coordinates['X'].values\n",
    "max_column_names['predict_y']=predict_coordinates['Y'].values\n",
    "\n",
    "# Print the DataFrame\n",
    "print(max_column_names)"
   ]
  },
  {
   "cell_type": "code",
   "execution_count": null,
   "metadata": {},
   "outputs": [],
   "source": [
    "assigned_locations_path = os.path.join(output_folder+\"mapping_results.csv\")\n",
    "max_column_names.to_csv(assigned_locations_path)"
   ]
  },
  {
   "cell_type": "markdown",
   "metadata": {},
   "source": [
    "Visualize the mapping results of simulated mouse cerebellum and hippocampus (Supplementary Figure 3, 4)"
   ]
  },
  {
   "cell_type": "code",
   "execution_count": null,
   "metadata": {},
   "outputs": [],
   "source": [
    "plot_results_bulk_ST_by_spot(assigned_locations=max_column_names, coordinates_data=coordinates_data, dir_out=output_folder, output_prefix=\"Celloc_mapping\")"
   ]
  }
 ],
 "metadata": {
  "kernelspec": {
   "display_name": "ywbio",
   "language": "python",
   "name": "python3"
  },
  "language_info": {
   "codemirror_mode": {
    "name": "ipython",
    "version": 3
   },
   "file_extension": ".py",
   "mimetype": "text/x-python",
   "name": "python",
   "nbconvert_exporter": "python",
   "pygments_lexer": "ipython3",
   "version": "3.8.16"
  }
 },
 "nbformat": 4,
 "nbformat_minor": 2
}
