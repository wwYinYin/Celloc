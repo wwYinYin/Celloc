{
 "cells": [
  {
   "cell_type": "code",
   "execution_count": null,
   "metadata": {},
   "outputs": [],
   "source": [
    "import pandas as pd\n",
    "import seaborn as sns\n",
    "import matplotlib.pyplot as plt\n",
    "import os"
   ]
  },
  {
   "cell_type": "markdown",
   "metadata": {},
   "source": [
    "## Regular mapping"
   ]
  },
  {
   "cell_type": "code",
   "execution_count": null,
   "metadata": {},
   "outputs": [],
   "source": [
    "cerebellum_results_path='./metrics_results/cerebellum_regular_mapping_results.xlsx'\n",
    "hippocampus_results_path='./metrics_results/hippocampus_regular_mapping_results.xlsx'\n",
    "colums=['Celloc', 'CytoSPACE(Spatial Seurat)', 'Tangram (all genes)',\n",
    "       'Tangram (marker genes)', 'CellTrek']\n",
    "\n",
    "cerebellum_5_5=pd.read_excel(cerebellum_results_path,index_col=0,sheet_name='5_5%')[colums]\n",
    "cerebellum_5_10=pd.read_excel(cerebellum_results_path,index_col=0,sheet_name='5_10%')[colums]\n",
    "cerebellum_5_25=pd.read_excel(cerebellum_results_path,index_col=0,sheet_name='5_25%')[colums]\n",
    "cerebellum_15_5=pd.read_excel(cerebellum_results_path,index_col=0,sheet_name='15_5%')[colums]\n",
    "cerebellum_15_10=pd.read_excel(cerebellum_results_path,index_col=0,sheet_name='15_10%')[colums]\n",
    "cerebellum_15_25=pd.read_excel(cerebellum_results_path,index_col=0,sheet_name='15_25%')[colums]\n",
    "cerebellum_30_5=pd.read_excel(cerebellum_results_path,index_col=0,sheet_name='30_5%')[colums]\n",
    "cerebellum_30_10=pd.read_excel(cerebellum_results_path,index_col=0,sheet_name='30_10%')[colums]\n",
    "cerebellum_30_25=pd.read_excel(cerebellum_results_path,index_col=0,sheet_name='30_25%')[colums]\n",
    "\n",
    "hippocampus_5_5=pd.read_excel(hippocampus_results_path,index_col=0,sheet_name='5_5%')[colums]\n",
    "hippocampus_5_10=pd.read_excel(hippocampus_results_path,index_col=0,sheet_name='5_10%')[colums]\n",
    "hippocampus_5_25=pd.read_excel(hippocampus_results_path,index_col=0,sheet_name='5_25%')[colums]\n",
    "hippocampus_15_5=pd.read_excel(hippocampus_results_path,index_col=0,sheet_name='15_5%')[colums]\n",
    "hippocampus_15_10=pd.read_excel(hippocampus_results_path,index_col=0,sheet_name='15_10%')[colums]\n",
    "hippocampus_15_25=pd.read_excel(hippocampus_results_path,index_col=0,sheet_name='15_25%')[colums]\n",
    "hippocampus_30_5=pd.read_excel(hippocampus_results_path,index_col=0,sheet_name='30_5%')[colums]\n",
    "hippocampus_30_10=pd.read_excel(hippocampus_results_path,index_col=0,sheet_name='30_10%')[colums]\n",
    "hippocampus_30_25=pd.read_excel(hippocampus_results_path,index_col=0,sheet_name='30_25%')[colums]"
   ]
  },
  {
   "cell_type": "markdown",
   "metadata": {},
   "source": [
    "Figure 2a; Figure S2a"
   ]
  },
  {
   "cell_type": "code",
   "execution_count": null,
   "metadata": {},
   "outputs": [],
   "source": [
    "fig,axes = plt.subplots(ncols=3,nrows=3,figsize=(6,8))\n",
    "colors = [\"#7BD1F1\", \"#988DC3\",\"#9de846\", '#F9EC31', \"#F5A8C7\",\"#BBA8D1\", \"#F5A8C7\",  \"#A2CBCF\",\"#D6DE23\",\"#1AB5B7\"]\n",
    "sns.boxplot(data=cerebellum_5_5,palette=colors,ax=axes[0,0],showfliers = False,width=0.5, whis=0.5)\n",
    "sns.stripplot(data=cerebellum_5_5, color=\"black\", jitter=0.1, size=2,ax=axes[0,0])\n",
    "axes[0,0].set_title('5_5%')\n",
    "sns.boxplot(data=cerebellum_15_5,palette=colors,ax=axes[0,1],showfliers = False,width=0.5, whis=0.5)\n",
    "sns.stripplot(data=cerebellum_15_5, color=\"black\", jitter=0.1, size=2,ax=axes[0,1])\n",
    "axes[0,1].set_title('15_5%')\n",
    "sns.boxplot(data=cerebellum_30_5,palette=colors,ax=axes[0,2],showfliers = False,width=0.5, whis=0.5)\n",
    "sns.stripplot(data=cerebellum_30_5, color=\"black\", jitter=0.1, size=2,ax=axes[0,2])\n",
    "axes[0,2].set_title('30_5%')\n",
    "sns.boxplot(data=cerebellum_5_10,palette=colors,ax=axes[1,0],showfliers = False,width=0.5, whis=0.5)\n",
    "sns.stripplot(data=cerebellum_5_10, color=\"black\", jitter=0.1, size=2,ax=axes[1,0])\n",
    "axes[1,0].set_title('5_10%')\n",
    "sns.boxplot(data=cerebellum_15_10,palette=colors,ax=axes[1,1],showfliers = False,width=0.5, whis=0.5)\n",
    "sns.stripplot(data=cerebellum_15_10, color=\"black\", jitter=0.1, size=2,ax=axes[1,1])\n",
    "axes[1,1].set_title('15_10%')\n",
    "sns.boxplot(data=cerebellum_30_10,palette=colors,ax=axes[1,2],showfliers = False,width=0.5, whis=0.5)\n",
    "sns.stripplot(data=cerebellum_30_10, color=\"black\", jitter=0.1, size=2,ax=axes[1,2])\n",
    "axes[1,2].set_title('30_10%')\n",
    "sns.boxplot(data=cerebellum_5_25,palette=colors,ax=axes[2,0],showfliers = False,width=0.5, whis=0.5)\n",
    "sns.stripplot(data=cerebellum_5_25, color=\"black\", jitter=0.1, size=2,ax=axes[2,0])\n",
    "axes[2,0].set_title('5_25%')\n",
    "sns.boxplot(data=cerebellum_15_25,palette=colors,ax=axes[2,1],showfliers = False,width=0.5, whis=0.5)\n",
    "sns.stripplot(data=cerebellum_15_25, color=\"black\", jitter=0.1, size=2,ax=axes[2,1])\n",
    "axes[2,1].set_title('15_25%')\n",
    "sns.boxplot(data=cerebellum_30_25,palette=colors,ax=axes[2,2],showfliers = False,width=0.5, whis=0.5)\n",
    "sns.stripplot(data=cerebellum_30_25, color=\"black\", jitter=0.1, size=2,ax=axes[2,2])\n",
    "axes[2,2].set_title('30_25%')\n",
    "\n",
    "# 取消所有子图的横坐标标签\n",
    "for ax in axes.flatten():\n",
    "    ax.set_xticklabels([])\n",
    "    ax.spines['top'].set_visible(False)\n",
    "    ax.spines['right'].set_visible(False)\n",
    "#plt.delaxes(axes[1, 2])\n",
    "plt.tight_layout()\n",
    "dir_out=\"./metrics_results/\"\n",
    "output_prefix=\"regular_mapping_\"\n",
    "fout_png_all = os.path.join(dir_out, f\"{output_prefix}cerebellum.png\")\n",
    "fout_pdf_all = os.path.join(dir_out, f\"{output_prefix}cerebellum.pdf\")\n",
    "fig.savefig(fout_png_all, facecolor=\"w\", bbox_inches='tight')\n",
    "fig.savefig(fout_pdf_all, facecolor=\"w\", bbox_inches='tight')\n",
    "plt.show()"
   ]
  },
  {
   "cell_type": "markdown",
   "metadata": {},
   "source": [
    "Figure 2c; Figure S2c"
   ]
  },
  {
   "cell_type": "code",
   "execution_count": null,
   "metadata": {},
   "outputs": [],
   "source": [
    "fig,axes = plt.subplots(ncols=3,nrows=3,figsize=(6,8))\n",
    "colors = [\"#7BD1F1\", \"#988DC3\",\"#9de846\", '#F9EC31', \"#F5A8C7\",\"#BBA8D1\", \"#F5A8C7\",  \"#A2CBCF\",\"#D6DE23\",\"#1AB5B7\"]\n",
    "sns.boxplot(data=hippocampus_5_5,palette=colors,ax=axes[0,0],showfliers = False,width=0.5, whis=0.5)\n",
    "sns.stripplot(data=hippocampus_5_5, color=\"black\", jitter=0.1, size=2,ax=axes[0,0])\n",
    "axes[0,0].set_title('5_5%')\n",
    "sns.boxplot(data=hippocampus_15_5,palette=colors,ax=axes[0,1],showfliers = False,width=0.5, whis=0.5)\n",
    "sns.stripplot(data=hippocampus_15_5, color=\"black\", jitter=0.1, size=2,ax=axes[0,1])\n",
    "axes[0,1].set_title('15_5%')\n",
    "sns.boxplot(data=hippocampus_30_5,palette=colors,ax=axes[0,2],showfliers = False,width=0.5, whis=0.5)\n",
    "sns.stripplot(data=hippocampus_30_5, color=\"black\", jitter=0.1, size=2,ax=axes[0,2])\n",
    "axes[0,2].set_title('30_5%')\n",
    "sns.boxplot(data=hippocampus_5_10,palette=colors,ax=axes[1,0],showfliers = False,width=0.5, whis=0.5)\n",
    "sns.stripplot(data=hippocampus_5_10, color=\"black\", jitter=0.1, size=2,ax=axes[1,0])\n",
    "axes[1,0].set_title('5_10%')\n",
    "sns.boxplot(data=hippocampus_15_10,palette=colors,ax=axes[1,1],showfliers = False,width=0.5, whis=0.5)\n",
    "sns.stripplot(data=hippocampus_15_10, color=\"black\", jitter=0.1, size=2,ax=axes[1,1])\n",
    "axes[1,1].set_title('15_10%')\n",
    "sns.boxplot(data=hippocampus_30_10,palette=colors,ax=axes[1,2],showfliers = False,width=0.5, whis=0.5)\n",
    "sns.stripplot(data=hippocampus_30_10, color=\"black\", jitter=0.1, size=2,ax=axes[1,2])\n",
    "axes[1,2].set_title('30_10%')\n",
    "sns.boxplot(data=hippocampus_5_25,palette=colors,ax=axes[2,0],showfliers = False,width=0.5, whis=0.5)\n",
    "sns.stripplot(data=hippocampus_5_25, color=\"black\", jitter=0.1, size=2,ax=axes[2,0])\n",
    "axes[2,0].set_title('5_25%')\n",
    "sns.boxplot(data=hippocampus_15_25,palette=colors,ax=axes[2,1],showfliers = False,width=0.5, whis=0.5)\n",
    "sns.stripplot(data=hippocampus_15_25, color=\"black\", jitter=0.1, size=2,ax=axes[2,1])\n",
    "axes[2,1].set_title('15_25%')\n",
    "sns.boxplot(data=hippocampus_30_25,palette=colors,ax=axes[2,2],showfliers = False,width=0.5, whis=0.5)\n",
    "sns.stripplot(data=hippocampus_30_25, color=\"black\", jitter=0.1, size=2,ax=axes[2,2])\n",
    "axes[2,2].set_title('30_25%')\n",
    "\n",
    "# 取消所有子图的横坐标标签\n",
    "for ax in axes.flatten():\n",
    "    ax.set_xticklabels([])\n",
    "    ax.spines['top'].set_visible(False)\n",
    "    ax.spines['right'].set_visible(False)\n",
    "#plt.delaxes(axes[1, 2])\n",
    "plt.tight_layout()\n",
    "dir_out=\"./metrics_results/\"\n",
    "output_prefix=\"regular_mapping_\"\n",
    "fout_png_all = os.path.join(dir_out, f\"{output_prefix}hippocampus.png\")\n",
    "fout_pdf_all = os.path.join(dir_out, f\"{output_prefix}hippocampus.pdf\")\n",
    "fig.savefig(fout_png_all, facecolor=\"w\", bbox_inches='tight')\n",
    "fig.savefig(fout_pdf_all, facecolor=\"w\", bbox_inches='tight')\n",
    "plt.show()"
   ]
  },
  {
   "cell_type": "markdown",
   "metadata": {},
   "source": [
    "## Cell type identification"
   ]
  },
  {
   "cell_type": "code",
   "execution_count": null,
   "metadata": {},
   "outputs": [],
   "source": [
    "import pandas as pd\n",
    "import seaborn as sns\n",
    "import matplotlib.pyplot as plt\n",
    "import os\n",
    "cerebellum_results_path='./metrics_results/cerebellum_results_CT.xlsx'\n",
    "hippocampus_results_path='./metrics_results/hippocampus_results_CT.xlsx'\n",
    "colums=['Celloc', 'CytoSPACE', 'SpatialScope','Tangram (all genes)',\n",
    "       'Tangram (marker genes)']\n",
    "cerebellum_5_5=pd.read_excel(cerebellum_results_path,index_col=0,sheet_name='5_5%')[colums]\n",
    "cerebellum_5_10=pd.read_excel(cerebellum_results_path,index_col=0,sheet_name='5_10%')[colums]\n",
    "cerebellum_5_25=pd.read_excel(cerebellum_results_path,index_col=0,sheet_name='5_25%')[colums]\n",
    "cerebellum_15_5=pd.read_excel(cerebellum_results_path,index_col=0,sheet_name='15_5%')[colums]\n",
    "cerebellum_15_10=pd.read_excel(cerebellum_results_path,index_col=0,sheet_name='15_10%')[colums]\n",
    "cerebellum_15_25=pd.read_excel(cerebellum_results_path,index_col=0,sheet_name='15_25%')[colums]\n",
    "cerebellum_30_5=pd.read_excel(cerebellum_results_path,index_col=0,sheet_name='30_5%')[colums]\n",
    "cerebellum_30_10=pd.read_excel(cerebellum_results_path,index_col=0,sheet_name='30_10%')[colums]\n",
    "cerebellum_30_25=pd.read_excel(cerebellum_results_path,index_col=0,sheet_name='30_25%')[colums]\n",
    "\n",
    "hippocampus_5_5=pd.read_excel(hippocampus_results_path,index_col=0,sheet_name='5_5%')[colums]\n",
    "hippocampus_5_10=pd.read_excel(hippocampus_results_path,index_col=0,sheet_name='5_10%')[colums]\n",
    "hippocampus_5_25=pd.read_excel(hippocampus_results_path,index_col=0,sheet_name='5_25%')[colums]\n",
    "hippocampus_15_5=pd.read_excel(hippocampus_results_path,index_col=0,sheet_name='15_5%')[colums]\n",
    "hippocampus_15_10=pd.read_excel(hippocampus_results_path,index_col=0,sheet_name='15_10%')[colums]\n",
    "hippocampus_15_25=pd.read_excel(hippocampus_results_path,index_col=0,sheet_name='15_25%')[colums]\n",
    "hippocampus_30_5=pd.read_excel(hippocampus_results_path,index_col=0,sheet_name='30_5%')[colums]\n",
    "hippocampus_30_10=pd.read_excel(hippocampus_results_path,index_col=0,sheet_name='30_10%')[colums]\n",
    "hippocampus_30_25=pd.read_excel(hippocampus_results_path,index_col=0,sheet_name='30_25%')[colums]"
   ]
  },
  {
   "cell_type": "markdown",
   "metadata": {},
   "source": [
    "Figure 2b; Figure S2b"
   ]
  },
  {
   "cell_type": "code",
   "execution_count": null,
   "metadata": {},
   "outputs": [],
   "source": [
    "fig,axes = plt.subplots(ncols=3,nrows=3,figsize=(4,8))\n",
    "colors = [\"#7BD1F1\", \"#988DC3\",\"#1AB5B7\", \"#9de846\", '#F9EC31',\"#BBA8D1\", \"#F5A8C7\",  \"#A2CBCF\",\"#D6DE23\",\"#1AB5B7\"]\n",
    "width=5\n",
    "sns.barplot(data=cerebellum_5_5,palette=colors,ax=axes[0,0], linewidth=width)\n",
    "axes[0,0].set_title('5_5%')\n",
    "sns.barplot(data=cerebellum_15_5,palette=colors,ax=axes[0,1], linewidth=width)\n",
    "axes[0,1].set_title('15_5%')\n",
    "sns.barplot(data=cerebellum_30_5,palette=colors,ax=axes[0,2], linewidth=width)\n",
    "axes[0,2].set_title('30_5%')\n",
    "sns.barplot(data=cerebellum_5_10,palette=colors,ax=axes[1,0], linewidth=width)\n",
    "axes[1,0].set_title('5_10%')\n",
    "sns.barplot(data=cerebellum_15_10,palette=colors,ax=axes[1,1], linewidth=width)\n",
    "axes[1,1].set_title('15_10%')\n",
    "sns.barplot(data=cerebellum_30_10,palette=colors,ax=axes[1,2], linewidth=width)\n",
    "axes[1,2].set_title('30_10%')\n",
    "sns.barplot(data=cerebellum_5_25,palette=colors,ax=axes[2,0], linewidth=width)\n",
    "axes[2,0].set_title('5_25%')\n",
    "sns.barplot(data=cerebellum_15_25,palette=colors,ax=axes[2,1], linewidth=width)\n",
    "axes[2,1].set_title('15_25%')\n",
    "sns.barplot(data=cerebellum_30_25,palette=colors,ax=axes[2,2], linewidth=width)\n",
    "axes[2,2].set_title('30_25%')\n",
    "\n",
    "# 取消所有子图的横坐标标签\n",
    "for ax in axes.flatten():\n",
    "    ax.set_xticklabels([])\n",
    "    ax.spines['top'].set_visible(False)\n",
    "    ax.spines['right'].set_visible(False)\n",
    "    ax.set_ylim(0, 0.4)\n",
    "#plt.delaxes(axes[1, 2])\n",
    "plt.tight_layout()\n",
    "dir_out=\"./metrics_results/\"\n",
    "output_prefix=\"\"\n",
    "fout_png_all = os.path.join(dir_out, f\"{output_prefix}cerebellum_CT.png\")\n",
    "fout_pdf_all = os.path.join(dir_out, f\"{output_prefix}cerebellum_CT.pdf\")\n",
    "fig.savefig(fout_png_all, facecolor=\"w\", bbox_inches='tight')\n",
    "fig.savefig(fout_pdf_all, facecolor=\"w\", bbox_inches='tight')\n",
    "plt.show()"
   ]
  },
  {
   "cell_type": "markdown",
   "metadata": {},
   "source": [
    "Figure 2d; Figure S2d"
   ]
  },
  {
   "cell_type": "code",
   "execution_count": null,
   "metadata": {},
   "outputs": [],
   "source": [
    "fig,axes = plt.subplots(ncols=3,nrows=3,figsize=(4,8))\n",
    "colors = [\"#7BD1F1\", \"#988DC3\",\"#1AB5B7\", \"#9de846\", '#F9EC31',\"#BBA8D1\", \"#F5A8C7\",  \"#A2CBCF\",\"#D6DE23\",\"#1AB5B7\"]\n",
    "width=0.3\n",
    "sns.barplot(data=hippocampus_5_5,palette=colors,ax=axes[0,0], linewidth=width)\n",
    "axes[0,0].set_title('5_5%')\n",
    "sns.barplot(data=hippocampus_15_5,palette=colors,ax=axes[0,1], linewidth=width)\n",
    "axes[0,1].set_title('15_5%')\n",
    "sns.barplot(data=hippocampus_30_5,palette=colors,ax=axes[0,2], linewidth=width)\n",
    "axes[0,2].set_title('30_5%')\n",
    "sns.barplot(data=hippocampus_5_10,palette=colors,ax=axes[1,0], linewidth=width)\n",
    "axes[1,0].set_title('5_10%')\n",
    "sns.barplot(data=hippocampus_15_10,palette=colors,ax=axes[1,1], linewidth=width)\n",
    "axes[1,1].set_title('15_10%')\n",
    "sns.barplot(data=hippocampus_30_10,palette=colors,ax=axes[1,2], linewidth=width)\n",
    "axes[1,2].set_title('30_10%')\n",
    "sns.barplot(data=hippocampus_5_25,palette=colors,ax=axes[2,0], linewidth=width)\n",
    "axes[2,0].set_title('5_25%')\n",
    "sns.barplot(data=hippocampus_15_25,palette=colors,ax=axes[2,1], linewidth=width)\n",
    "axes[2,1].set_title('15_25%')\n",
    "sns.barplot(data=hippocampus_30_25,palette=colors,ax=axes[2,2], linewidth=width)\n",
    "axes[2,2].set_title('30_25%')\n",
    "\n",
    "# 取消所有子图的横坐标标签\n",
    "for ax in axes.flatten():\n",
    "    ax.set_xticklabels([])\n",
    "    ax.spines['top'].set_visible(False)\n",
    "    ax.spines['right'].set_visible(False)\n",
    "    ax.set_ylim(0, 0.5)\n",
    "#plt.delaxes(axes[1, 2])\n",
    "plt.tight_layout()\n",
    "dir_out=\"./metrics_results/\"\n",
    "output_prefix=\"\"\n",
    "fout_png_all = os.path.join(dir_out, f\"{output_prefix}hippocampus_CT.png\")\n",
    "fout_pdf_all = os.path.join(dir_out, f\"{output_prefix}hippocampus_CT.pdf\")\n",
    "fig.savefig(fout_png_all, facecolor=\"w\", bbox_inches='tight')\n",
    "fig.savefig(fout_pdf_all, facecolor=\"w\", bbox_inches='tight')\n",
    "plt.show()"
   ]
  },
  {
   "cell_type": "markdown",
   "metadata": {},
   "source": [
    "## Greedy mapping"
   ]
  },
  {
   "cell_type": "code",
   "execution_count": null,
   "metadata": {},
   "outputs": [],
   "source": [
    "import pandas as pd\n",
    "import seaborn as sns\n",
    "import matplotlib.pyplot as plt\n",
    "import os\n",
    "cerebellum_results_path='./metrics_results/cerebellum_greedy_mapping_results.xlsx'\n",
    "hippocampus_results_path='./metrics_results/hippocampus_greedy_mapping_results.xlsx'\n",
    "\n",
    "cerebellum_5_5=pd.read_excel(cerebellum_results_path,index_col=0,sheet_name='5_5%')\n",
    "cerebellum_5_10=pd.read_excel(cerebellum_results_path,index_col=0,sheet_name='5_10%')\n",
    "cerebellum_5_25=pd.read_excel(cerebellum_results_path,index_col=0,sheet_name='5_25%')\n",
    "\n",
    "hippocampus_5_5=pd.read_excel(hippocampus_results_path,index_col=0,sheet_name='5_5%')\n",
    "hippocampus_5_10=pd.read_excel(hippocampus_results_path,index_col=0,sheet_name='5_10%')\n",
    "hippocampus_5_25=pd.read_excel(hippocampus_results_path,index_col=0,sheet_name='5_25%')\n",
    "\n",
    "coloums=['Celloc','SpaOTsc','Tangram (all genes)','Tangram (marker genes)','NovoSpaRc']"
   ]
  },
  {
   "cell_type": "markdown",
   "metadata": {},
   "source": [
    "Figure 2e"
   ]
  },
  {
   "cell_type": "code",
   "execution_count": null,
   "metadata": {},
   "outputs": [],
   "source": [
    "fig,axes = plt.subplots(ncols=3,nrows=1,figsize=(10,9))\n",
    "colors = [\"#7BD1F1\", \"#A2CBCF\",\"#9de846\", '#F9EC31',\"#D6DE23\"]\n",
    "sns.boxplot(data=cerebellum_5_5[coloums],palette=colors,ax=axes[0],showfliers = False,width=0.5, whis=0.5)\n",
    "sns.stripplot(data=cerebellum_5_5[coloums], color=\"black\", jitter=0.1, size=2,ax=axes[0])\n",
    "axes[0].set_title('5_5%')\n",
    "sns.boxplot(data=cerebellum_5_10[coloums],palette=colors,ax=axes[1],showfliers = False,width=0.5, whis=0.5)\n",
    "sns.stripplot(data=cerebellum_5_10[coloums], color=\"black\", jitter=0.1, size=2,ax=axes[1])\n",
    "axes[1].set_title('5_10%')\n",
    "sns.boxplot(data=cerebellum_5_25[coloums],palette=colors,ax=axes[2],showfliers = False,width=0.5, whis=0.5)\n",
    "sns.stripplot(data=cerebellum_5_25[coloums], color=\"black\", jitter=0.1, size=2,ax=axes[2])\n",
    "axes[2].set_title('5_25%')\n",
    "\n",
    "# 取消所有子图的横坐标标签\n",
    "for ax in axes.flatten():\n",
    "    ax.set_xticklabels([])\n",
    "    ax.spines['top'].set_visible(False)\n",
    "    ax.spines['right'].set_visible(False)\n",
    "#plt.delaxes(axes[1, 2])\n",
    "plt.tight_layout()\n",
    "dir_out=\"./metrics_results/\"\n",
    "output_prefix=\"greedy_mapping_\"\n",
    "fout_pdf_all = os.path.join(dir_out, f\"{output_prefix}cerebellum.pdf\")\n",
    "fig.savefig(fout_pdf_all, facecolor=\"w\", bbox_inches='tight')\n",
    "plt.show()"
   ]
  },
  {
   "cell_type": "code",
   "execution_count": null,
   "metadata": {},
   "outputs": [],
   "source": [
    "fig,axes = plt.subplots(ncols=3,nrows=1,figsize=(10,9))\n",
    "coloums=['SPATIALDL (SpatialcoGCN)','SpaoTsc','Tangram (all genes)','Tangram (marker genes)','NovoSpaRc']\n",
    "colors = [\"#7BD1F1\", \"#A2CBCF\",\"#9de846\", '#F9EC31',\"#D6DE23\"]\n",
    "sns.boxplot(data=hippocampus_5_5[coloums],palette=colors,ax=axes[0],showfliers = False,width=0.5, whis=0.5)\n",
    "sns.stripplot(data=hippocampus_5_5[coloums], color=\"black\", jitter=0.1, size=2,ax=axes[0])\n",
    "axes[0].set_title('5_5%')\n",
    "sns.boxplot(data=hippocampus_5_10[coloums],palette=colors,ax=axes[1],showfliers = False,width=0.5, whis=0.5)\n",
    "sns.stripplot(data=hippocampus_5_10[coloums], color=\"black\", jitter=0.1, size=2,ax=axes[1])\n",
    "axes[1].set_title('5_10%')\n",
    "sns.boxplot(data=hippocampus_5_25[coloums],palette=colors,ax=axes[2],showfliers = False,width=0.5, whis=0.5)\n",
    "sns.stripplot(data=hippocampus_5_25[coloums], color=\"black\", jitter=0.1, size=2,ax=axes[2])\n",
    "axes[2].set_title('5_25%')\n",
    "\n",
    "# 取消所有子图的横坐标标签\n",
    "for ax in axes.flatten():\n",
    "    ax.set_xticklabels([])\n",
    "    ax.spines['top'].set_visible(False)\n",
    "    ax.spines['right'].set_visible(False)\n",
    "#plt.delaxes(axes[1, 2])\n",
    "plt.tight_layout()\n",
    "dir_out=\"./metrics_results/\"\n",
    "output_prefix=\"greedy_mapping_\"\n",
    "fout_pdf_all = os.path.join(dir_out, f\"{output_prefix}hippocampus.pdf\")\n",
    "fig.savefig(fout_pdf_all, facecolor=\"w\", bbox_inches='tight')\n",
    "plt.show()"
   ]
  },
  {
   "cell_type": "markdown",
   "metadata": {},
   "source": [
    "## deconvolution results"
   ]
  },
  {
   "cell_type": "code",
   "execution_count": null,
   "metadata": {},
   "outputs": [],
   "source": [
    "import pandas as pd\n",
    "import scanpy as sc\n",
    "import numpy as np"
   ]
  },
  {
   "cell_type": "markdown",
   "metadata": {},
   "source": [
    "Cerebellum, Figure S5a"
   ]
  },
  {
   "cell_type": "code",
   "execution_count": null,
   "metadata": {},
   "outputs": [],
   "source": [
    "Celloc_results=pd.read_csv('./regular_mapping_results/Cerebellum/regular_mapping_5cell_5%noise.csv',index_col=0)\n",
    "Celloc_results = Celloc_results.loc[:, ['Predict', 'CellType']].value_counts().unstack(fill_value=0)\\\n",
    "                .reindex(index=Celloc_results.Predict.unique(), columns=Celloc_results.CellType.unique())\n",
    "Celloc_results = Celloc_results.loc[:,np.unique(Celloc_results.columns)]\n",
    "Celloc_results = (Celloc_results.T/Celloc_results.sum(axis=1)).T\n",
    "Celloc_results = Celloc_results.fillna(0)\n",
    "print(Celloc_results)"
   ]
  },
  {
   "cell_type": "markdown",
   "metadata": {},
   "source": [
    "Hippocampus, Figure S5a"
   ]
  },
  {
   "cell_type": "code",
   "execution_count": null,
   "metadata": {},
   "outputs": [],
   "source": [
    "Celloc_results=pd.read_csv('./regular_mapping_results/Hippocampus/regular_mapping_5cell_5%noise.csv',index_col=0)\n",
    "Celloc_results = Celloc_results.loc[:, ['Predict', 'CellType']].value_counts().unstack(fill_value=0)\\\n",
    "                .reindex(index=Celloc_results.Predict.unique(), columns=Celloc_results.CellType.unique())\n",
    "Celloc_results = Celloc_results.loc[:,np.unique(Celloc_results.columns)]\n",
    "Celloc_results = (Celloc_results.T/Celloc_results.sum(axis=1)).T\n",
    "Celloc_results = Celloc_results.fillna(0)\n",
    "print(Celloc_results)"
   ]
  }
 ],
 "metadata": {
  "language_info": {
   "name": "python"
  }
 },
 "nbformat": 4,
 "nbformat_minor": 2
}
