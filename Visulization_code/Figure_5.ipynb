{
 "cells": [
  {
   "cell_type": "code",
   "execution_count": null,
   "metadata": {},
   "outputs": [],
   "source": [
    "import numpy as np\n",
    "import pandas as pd\n",
    "import scanpy as sc"
   ]
  },
  {
   "cell_type": "code",
   "execution_count": null,
   "metadata": {},
   "outputs": [],
   "source": [
    "st_adata=sc.read_h5ad('../data/DCIS1/spatial_DCIS1.h5ad')\n",
    "\n",
    "## we cropped out the damaged areas of the original tissue slide follow the original research CellTrek\n",
    "spatial = st_adata.obsm['spatial']\n",
    "x = spatial[:, 0]\n",
    "y = spatial[:, 1]\n",
    "keep_idx = np.where((x >= 1380) & (y >= 2150))[0]\n",
    "st_adata = st_adata[keep_idx, :]\n",
    "print(st_adata)\n",
    "\n",
    "sc.pl.spatial(st_adata,size=1,color='in_tissue',img_key='hires',alpha_img=1)"
   ]
  },
  {
   "cell_type": "code",
   "execution_count": null,
   "metadata": {},
   "outputs": [],
   "source": [
    "Celloc_results = pd.read_csv('./regular_mapping_results/DCIS1/Celloc_mapping_results.csv',index_col=0)\n",
    "x = Celloc_results['predict_x']\n",
    "y = Celloc_results['predict_y']\n",
    "keep_idx = np.where((x >= 1380) & (y >= 2150))[0]\n",
    "Celloc_results = Celloc_results.iloc[keep_idx, :]\n",
    "\n",
    "\n",
    "def rand_jitter(arr,interval,seed_value=1):\n",
    "    np.random.seed(seed_value)\n",
    "    return arr + np.random.uniform(-interval/4,interval/4,len(arr))\n",
    "x_interval = np.median(np.unique(np.diff(np.sort(np.unique(Celloc_results['predict_x'])))))*3\n",
    "y_interval = np.median(np.unique(np.diff(np.sort(np.unique(Celloc_results['predict_y'])))))*3\n",
    "Celloc_results['predict_x'] = rand_jitter(Celloc_results['predict_x'].values,x_interval)\n",
    "Celloc_results['predict_y'] = rand_jitter(Celloc_results['predict_y'].values,y_interval)\n",
    "print(Celloc_results)"
   ]
  },
  {
   "cell_type": "markdown",
   "metadata": {},
   "source": [
    "The Epithelial3 cells are Tumor cells"
   ]
  },
  {
   "cell_type": "code",
   "execution_count": null,
   "metadata": {},
   "outputs": [],
   "source": [
    "epi3 = Celloc_results.query(\"CellType == 'Epithelial3'\")\n",
    "nkt = Celloc_results.query(\"CellType == 'NK/T'\")\n",
    "\n",
    "def find_nearest_epi3(nkt_cell,n):\n",
    "    nkt_x = nkt_cell[\"predict_x\"]\n",
    "    nkt_y = nkt_cell[\"predict_y\"]\n",
    "    distances = []\n",
    "    for i, epi3_cell in epi3.iterrows():\n",
    "        epi3_x = epi3_cell[\"predict_x\"]\n",
    "        epi3_y = epi3_cell[\"predict_y\"]\n",
    "        distance = np.linalg.norm(np.array([nkt_x, nkt_y]) - np.array([epi3_x, epi3_y]))\n",
    "        distances.append((distance, i))\n",
    "    distances.sort()\n",
    "    return np.mean([distance for distance, _ in distances[:n]])\n",
    "\n",
    "nkt[\"distance5\"] = nkt.apply(find_nearest_epi3, args=(5,), axis=1)"
   ]
  },
  {
   "cell_type": "code",
   "execution_count": null,
   "metadata": {},
   "outputs": [],
   "source": [
    "T_cell_ano=pd.read_csv('./regular_mapping_results/DCIS1/T_cell_ano.txt',index_col=0)\n",
    "nkt[\"celltype\"]=T_cell_ano.loc[nkt.index.values,'celltype'].values\n",
    "nkt[\"Tex_Score\"]=T_cell_ano.loc[nkt.index.values,'Tex_Score'].values\n",
    "print(nkt)"
   ]
  },
  {
   "cell_type": "code",
   "execution_count": null,
   "metadata": {},
   "outputs": [],
   "source": [
    "result_df = nkt.copy()\n",
    "result_df = result_df.loc[~result_df.index.duplicated(keep='first')]\n",
    "print(result_df)"
   ]
  },
  {
   "cell_type": "markdown",
   "metadata": {},
   "source": [
    "## Figure 5i"
   ]
  },
  {
   "cell_type": "code",
   "execution_count": null,
   "metadata": {},
   "outputs": [],
   "source": [
    "import seaborn as sns\n",
    "from scipy.stats import pearsonr\n",
    "import matplotlib.pyplot as plt\n",
    "fig,ax = plt.subplots(figsize=(8,6))\n",
    "# Calculate correlation coefficient and P value\n",
    "corr, pval = pearsonr(result_df['distance5'], result_df['Tex_Score'])\n",
    "\n",
    "# Draw a correlation diagram\n",
    "sns.regplot(x='distance5', y='Tex_Score', data=result_df)\n",
    "\n",
    "# Add P value annotation\n",
    "if pval < 0.001:\n",
    "    text = \"***\"\n",
    "elif pval < 0.01:\n",
    "    text = \"**\"\n",
    "elif pval < 0.05:\n",
    "    text = \"*\"\n",
    "else:\n",
    "    text = \"ns\"\n",
    "plt.annotate(\"p = {:.3e}\".format(pval), xy=(0.05, 0.95), xycoords='axes fraction', fontsize=12, ha='left', va='top')\n",
    "plt.annotate(\"r = {:.3e}\".format(corr), xy=(0.05, 0.85), xycoords='axes fraction', fontsize=12, ha='left', va='top')\n",
    "plt.annotate(text, xy=(0.05, 0.9), xycoords='axes fraction', fontsize=12, ha='left', va='top')\n",
    "# plot_file = \"../data/DCIS2/Tex_score_and_Dis.pdf\"\n",
    "# fig.savefig(plot_file,dpi=600,bbox_inches = \"tight\")\n",
    "plt.show()"
   ]
  },
  {
   "cell_type": "code",
   "execution_count": null,
   "metadata": {},
   "outputs": [],
   "source": [
    "# Calculate the median of column \"distance5\"\n",
    "median_distance5 = result_df['distance5'].median()\n",
    "# Divide the \"distance5\" column into two columns: \"close\" and \"far\" based on the median\n",
    "result_df['distance'] = result_df['distance5'].apply(lambda x: 'proxT' if x <= median_distance5 else 'distT')\n",
    "print(result_df)"
   ]
  },
  {
   "cell_type": "markdown",
   "metadata": {},
   "source": [
    "## Figure 5j"
   ]
  },
  {
   "cell_type": "code",
   "execution_count": null,
   "metadata": {},
   "outputs": [],
   "source": [
    "CD4Tex=result_df.loc[result_df['celltype'] == 'CD4Tex']\n",
    "CD4T=result_df.loc[result_df['celltype'] == 'CD4T']\n",
    "CD8Tex=result_df.loc[result_df['celltype'] == 'CD8Tex']\n",
    "CD8T=result_df.loc[result_df['celltype'] == 'CD8T']\n",
    "Treg=result_df.loc[result_df['celltype'] == 'Treg']\n",
    "NaiveT=result_df.loc[result_df['celltype'] == 'NaiveT']\n",
    "\n",
    "import seaborn as sns\n",
    "import matplotlib.pyplot as plt\n",
    "from scipy import stats\n",
    "import pandas as pd\n",
    "from statannotations.Annotator import Annotator\n",
    "\n",
    "celltypes = {'CD4Tex': CD4Tex, 'CD4T': CD4T, 'CD8Tex': CD8Tex, 'CD8T': CD8T, 'Treg': Treg, 'NaiveT': NaiveT}\n",
    "\n",
    "fig, axs = plt.subplots(2, 3, figsize=(6,8))  \n",
    "axs = axs.ravel()  \n",
    "\n",
    "for i, (celltype, data) in enumerate(celltypes.items()):\n",
    "    ax = axs[i]  \n",
    "    order = ['proxT','distT']\n",
    "    sns.boxplot(data=data, x='distance', order=order, y='Tex_Score', showfliers = False,\n",
    "                palette=['#E11F26','#387EB8'],\n",
    "                width=0.5, whis=0.4, ax=ax)  \n",
    "    pairs=[('proxT','distT')]\n",
    "\n",
    "    annotator = Annotator(ax, pairs, data=data, x='distance', y='Tex_Score', order=order)\n",
    "    annotator.configure(test='Mann-Whitney', text_format='star',line_height=0.03,line_width=1)\n",
    "    annotator.apply_and_annotate()\n",
    "\n",
    "    for spine in [\"top\",\"right\"]:\n",
    "        ax.spines[spine].set_visible(False)\n",
    "    ax.set_ylim(-0.15, 0.65)\n",
    "\n",
    "    ax.set_title(celltype)  \n",
    "\n",
    "plt.tight_layout()  \n",
    "plt.show()"
   ]
  },
  {
   "cell_type": "markdown",
   "metadata": {},
   "source": [
    "## Figure 5e"
   ]
  },
  {
   "cell_type": "code",
   "execution_count": null,
   "metadata": {},
   "outputs": [],
   "source": [
    "import seaborn as sns\n",
    "import matplotlib.pyplot as plt\n",
    "from scipy import stats\n",
    "import pandas as pd\n",
    "from statannotations.Annotator import Annotator\n",
    "\n",
    "fig,ax = plt.subplots(figsize=(4,3))\n",
    "# 绘制箱线图\n",
    "order = ['CD8T','NaiveT','CD4T','CD4Tex','Treg','CD8Tex']\n",
    "sns.boxplot(data=result_df, x='celltype', order=order, y='distance5', showfliers = False,\n",
    "            palette=['#97509E','#F7EC37','#387EB8','#4DAE49','#A55627','#F47E20'],\n",
    "            width=0.5, whis=0.3)  \n",
    "pairs=[(\"CD8T\", \"CD8Tex\"), (\"CD4T\", \"CD4Tex\"), (\"CD4T\", \"Treg\")]\n",
    "\n",
    "annotator = Annotator(ax, pairs, data=result_df, x='celltype', y='distance5', order=order)\n",
    "annotator.configure(test='Mann-Whitney', text_format='star',line_height=0.03,line_width=1)\n",
    "annotator.apply_and_annotate()\n",
    "\n",
    "for spine in [\"top\",\"right\"]:\n",
    "    ax.spines[spine].set_visible(False)\n",
    "\n",
    "plot_file = \"../data/DCIS2/distance_P.pdf\"\n",
    "fig.savefig(plot_file,dpi=600,bbox_inches = \"tight\")\n",
    "plt.show()"
   ]
  },
  {
   "cell_type": "markdown",
   "metadata": {},
   "source": [
    "## Figure 5g"
   ]
  },
  {
   "cell_type": "code",
   "execution_count": null,
   "metadata": {},
   "outputs": [],
   "source": [
    "import seaborn as sns\n",
    "import matplotlib.pyplot as plt\n",
    "from scipy import stats\n",
    "import pandas as pd\n",
    "from statannotations.Annotator import Annotator\n",
    "\n",
    "fig,ax = plt.subplots(figsize=(4,3))\n",
    "# 绘制箱线图\n",
    "order = ['CD8T','NaiveT','CD4T','CD4Tex','Treg','CD8Tex']\n",
    "sns.boxplot(x='celltype', order=order, y='Tex_Score', showfliers = False,data=T_cell_ano,\n",
    "            palette=['#97509E','#F7EC37','#387EB8','#4DAE49','#A55627','#F47E20'],\n",
    "            width=0.5, whis=0.3)  \n",
    "pairs=[(\"CD8T\", \"CD8Tex\"), (\"CD4T\", \"CD4Tex\"), (\"CD4T\", \"Treg\")]\n",
    "\n",
    "annotator = Annotator(ax, pairs, data=T_cell_ano, x='celltype', y='Tex_Score', order=order)\n",
    "annotator.configure(test='Mann-Whitney', text_format='star',line_height=0.03,line_width=1)\n",
    "annotator.apply_and_annotate()\n",
    "\n",
    "for spine in [\"top\",\"right\"]:\n",
    "    ax.spines[spine].set_visible(False)\n",
    "\n",
    "plot_file = \"../data/DCIS2/Tex_score_P.pdf\"\n",
    "fig.savefig(plot_file,dpi=600,bbox_inches = \"tight\")\n",
    "plt.show()"
   ]
  },
  {
   "cell_type": "code",
   "execution_count": null,
   "metadata": {},
   "outputs": [],
   "source": [
    "sub_Celloc_results=Celloc_results[Celloc_results['CellType']==\"NK/T\"]\n",
    "sub_Celloc_results[\"celltype\"]=T_cell_ano.loc[sub_Celloc_results.index.values,'celltype'].values\n",
    "sub_Celloc_results[\"Tex_Score\"]=T_cell_ano.loc[sub_Celloc_results.index.values,'Tex_Score'].values\n",
    "sub_Celloc_results[\"distance5\"]=result_df.loc[sub_Celloc_results.index.values,'distance5'].values\n",
    "print(sub_Celloc_results)"
   ]
  },
  {
   "cell_type": "code",
   "execution_count": null,
   "metadata": {},
   "outputs": [],
   "source": [
    "sub_st_adata=st_adata[sub_Celloc_results['Predict']]\n",
    "sub_st_adata.obs['celltype']=list(sub_Celloc_results['celltype'])\n",
    "sub_st_adata.obs['Tex_Score']=list(sub_Celloc_results['Tex_Score'])\n",
    "sub_st_adata.obs['distance5']=list(sub_Celloc_results['distance5'])\n",
    "sub_st_adata.obsm['spatial']=sub_st_adata.obsm['spatial'].astype(float)\n",
    "\n",
    "coordinate_data=pd.DataFrame(sub_st_adata.obsm['spatial'],index=sub_st_adata.obs_names,columns=['x','y'])\n",
    "def rand_jitter(arr,interval):\n",
    "    return arr + np.random.uniform(-interval/4,interval/4,len(arr))\n",
    "x_interval = np.median(np.unique(np.diff(np.sort(np.unique(coordinate_data['x'])))))*4\n",
    "y_interval = np.median(np.unique(np.diff(np.sort(np.unique(coordinate_data['y'])))))*4\n",
    "coordinate_data['x'] = rand_jitter(coordinate_data['x'].values,x_interval)\n",
    "coordinate_data['y'] = rand_jitter(coordinate_data['y'].values,y_interval)\n",
    "sub_st_adata.obsm['spatial']=np.array(coordinate_data[['x','y']])\n",
    "print(sub_st_adata.obsm['spatial'])"
   ]
  },
  {
   "cell_type": "markdown",
   "metadata": {},
   "source": [
    "## Figure 5h"
   ]
  },
  {
   "cell_type": "code",
   "execution_count": null,
   "metadata": {},
   "outputs": [],
   "source": [
    "import matplotlib.pyplot as plt\n",
    "import matplotlib.colors as mcolors\n",
    "\n",
    "c_list = [\"#433C84\", \"#1B928B\", \"#E0E318\"]\n",
    "\n",
    "mycolor_cmp = mcolors.LinearSegmentedColormap.from_list('mycolor', c_list)\n",
    "\n",
    "sc.pl.spatial(sub_st_adata,cmap=mycolor_cmp,\n",
    "                color=['Tex_Score'], \n",
    "                ncols=5, wspace=0.25,hspace=0.3,\n",
    "                spot_size=40,img_key='hires',alpha_img=0.6,vmin=0, vmax='p99.9',\n",
    "                save='predict.pdf'\n",
    "                )"
   ]
  },
  {
   "cell_type": "markdown",
   "metadata": {},
   "source": [
    "## Figure 5d"
   ]
  },
  {
   "cell_type": "code",
   "execution_count": null,
   "metadata": {},
   "outputs": [],
   "source": [
    "sc.pl.spatial(sub_st_adata,spot_size=40,img_key='hires',color='celltype',alpha_img=0.6,save='Compass_6T_cell.pdf',\n",
    "              palette=['#387EB8','#4DAE49','#97509E','#F47E20','#F7EC37','#A55627'])"
   ]
  }
 ],
 "metadata": {
  "language_info": {
   "name": "python"
  }
 },
 "nbformat": 4,
 "nbformat_minor": 2
}
