{
 "cells": [
  {
   "cell_type": "code",
   "execution_count": 1,
   "metadata": {},
   "outputs": [
    {
     "data": {
      "text/html": [
       "<style type='text/css'>\n",
       ".datatable table.frame { margin-bottom: 0; }\n",
       ".datatable table.frame thead { border-bottom: none; }\n",
       ".datatable table.frame tr.coltypes td {  color: #FFFFFF;  line-height: 6px;  padding: 0 0.5em;}\n",
       ".datatable .bool    { background: #DDDD99; }\n",
       ".datatable .object  { background: #565656; }\n",
       ".datatable .int     { background: #5D9E5D; }\n",
       ".datatable .float   { background: #4040CC; }\n",
       ".datatable .str     { background: #CC4040; }\n",
       ".datatable .row_index {  background: var(--jp-border-color3);  border-right: 1px solid var(--jp-border-color0);  color: var(--jp-ui-font-color3);  font-size: 9px;}\n",
       ".datatable .frame tr.coltypes .row_index {  background: var(--jp-border-color0);}\n",
       ".datatable th:nth-child(2) { padding-left: 12px; }\n",
       ".datatable .hellipsis {  color: var(--jp-cell-editor-border-color);}\n",
       ".datatable .vellipsis {  background: var(--jp-layout-color0);  color: var(--jp-cell-editor-border-color);}\n",
       ".datatable .na {  color: var(--jp-cell-editor-border-color);  font-size: 80%;}\n",
       ".datatable .footer { font-size: 9px; }\n",
       ".datatable .frame_dimensions {  background: var(--jp-border-color3);  border-top: 1px solid var(--jp-border-color0);  color: var(--jp-ui-font-color3);  display: inline-block;  opacity: 0.6;  padding: 1px 10px 1px 5px;}\n",
       "</style>\n"
      ],
      "text/plain": [
       "<IPython.core.display.HTML object>"
      ]
     },
     "metadata": {},
     "output_type": "display_data"
    }
   ],
   "source": [
    "import pandas as pd\n",
    "import numpy as np\n",
    "import random\n",
    "import os\n",
    "from Celloc.common import read_data,sample_single_cells,plot_results_bulk_ST_by_spot\n",
    "import matplotlib.pyplot as plt\n",
    "import scanpy as sc\n",
    "import sys\n",
    "from Celloc import CELLOC\n",
    "import anndata as ad"
   ]
  },
  {
   "cell_type": "markdown",
   "metadata": {},
   "source": [
    "Load data"
   ]
  },
  {
   "cell_type": "code",
   "execution_count": 2,
   "metadata": {},
   "outputs": [],
   "source": [
    "scRNA_path=\"./data/DCIS1/sc_RNA_DCIS1.h5ad\"\n",
    "cell_type_path=None\n",
    "st_path=\"./data/DCIS1/spatial_DCIS1.h5ad\"\n",
    "coordinates_path=None\n",
    "cell_type_numbers_estimation_path='./data/DCIS1/cell_type_number_setimate.csv'\n",
    "output_folder=\"./Celloc_output/\""
   ]
  },
  {
   "cell_type": "code",
   "execution_count": 3,
   "metadata": {},
   "outputs": [],
   "source": [
    "# scRNA_path=\"./data/melanoma/melanoma_scRNA_GEP.txt\"\n",
    "# cell_type_path=\"./data/melanoma/melanoma_scRNA_celllabels.txt\"\n",
    "# st_path=\"./data/melanoma/melanoma_STdata_slide1_GEP.txt\"\n",
    "# coordinates_path=\"./data/melanoma/melanoma_STdata_slide1_coordinates.txt\"\n",
    "# cell_type_numbers_estimation_path='./data/melanoma/cell_type_number_setimate.csv'"
   ]
  },
  {
   "cell_type": "code",
   "execution_count": 4,
   "metadata": {},
   "outputs": [],
   "source": [
    "celltype_col='CellType'\n",
    "\n",
    "# Read the data from the specified paths\n",
    "# sc_adata: single-cell RNA-seq data\n",
    "# spatial_adata: spatial transcriptomics data\n",
    "# cell_type_number_eachspot_data: estimated number of each cell type in each spot\n",
    "# coordinates_data: coordinates of each spot\n",
    "sc_adata, spatial_adata, cell_type_number_eachspot_data, coordinates_data =\\\n",
    "        read_data(scRNA_path, cell_type_path, cell_type_numbers_estimation_path, st_path, coordinates_path,celltype_col)\n",
    "\n",
    "# Extract the cell type information from the single-cell data\n",
    "# Rename the index and the 'CellType' column for clarity\n",
    "cell_type=pd.DataFrame(sc_adata.obs['CellType'])\n",
    "cell_type.index = [str(idx)[5:] for idx in cell_type.index]\n",
    "cell_type['CellType'] = [str(idx)[5:] for idx in cell_type['CellType']]\n",
    "\n",
    "# Calculate the total number of each cell type across all spots\n",
    "# Store the results in a DataFrame\n",
    "cell_type_numbers_int=pd.DataFrame(cell_type_number_eachspot_data.sum(0))\n",
    "cell_type_numbers_int.columns=['Fraction']\n",
    "\n",
    "# Calculate the total number of cells in each spot\n",
    "# Convert the results to integers\n",
    "cell_number_to_node_assignment=np.array(cell_type_number_eachspot_data.sum(1)).astype(int)"
   ]
  },
  {
   "cell_type": "code",
   "execution_count": 5,
   "metadata": {},
   "outputs": [],
   "source": [
    "# Filter out genes that are expressed in less than 1 cell in the single-cell data\n",
    "sc.pp.filter_genes(sc_adata, min_cells=1)\n",
    "\n",
    "# Filter out genes that are expressed in less than 1 cell in the spatial data\n",
    "sc.pp.filter_genes(spatial_adata, min_cells=1)\n",
    "\n",
    "# Find the intersection of the gene lists from the single-cell and spatial data\n",
    "intersect_genes = list(set(sc_adata.var_names) & set(spatial_adata.var_names))\n",
    "\n",
    "# Subset the single-cell and spatial data to only include the intersecting genes\n",
    "sc_adata = sc_adata[:,intersect_genes]\n",
    "spatial_adata = spatial_adata[:,intersect_genes]\n",
    "\n",
    "# Set the seed for random number generation\n",
    "seed=1\n",
    "\n",
    "# Set the method for sampling single cells\n",
    "sampling_method=\"duplicates\"\n",
    "\n",
    "# Sample single cells from the single-cell data according to the estimated number of each cell type\n",
    "# The sampling method is \"duplicates\", which means that cells can be sampled multiple times\n",
    "sc_adata_sampled = sample_single_cells(sc_adata, cell_type_numbers_int, sampling_method, seed)"
   ]
  },
  {
   "cell_type": "code",
   "execution_count": 6,
   "metadata": {},
   "outputs": [
    {
     "name": "stderr",
     "output_type": "stream",
     "text": [
      "/root/.conda/envs/ywbio/lib/python3.8/site-packages/scanpy/preprocessing/_normalization.py:170: UserWarning: Received a view of an AnnData. Making a copy.\n",
      "  view_to_actual(adata)\n",
      "/root/.conda/envs/ywbio/lib/python3.8/site-packages/anndata/_core/anndata.py:1838: UserWarning: Observation names are not unique. To make them unique, call `.obs_names_make_unique`.\n",
      "  utils.warn_names_duplicates(\"obs\")\n"
     ]
    },
    {
     "name": "stdout",
     "output_type": "stream",
     "text": [
      "AnnData object with n_obs × n_vars = 7402 × 19840\n",
      "    obs: 'orig.ident', 'nCount_RNA', 'nFeature_RNA', 'RNA_snn_res.1', 'seurat_clusters', 'cell_type', 'CellType'\n",
      "    var: 'n_cells'\n",
      "    uns: 'log1p', 'pca'\n",
      "    obsm: 'X_pca'\n",
      "    varm: 'PCs'\n",
      "AnnData object with n_obs × n_vars = 1567 × 19840\n",
      "    obs: 'in_tissue', 'array_row', 'array_col'\n",
      "    var: 'gene_ids', 'feature_types', 'genome', 'n_cells'\n",
      "    uns: 'spatial', 'log1p'\n",
      "    obsm: 'spatial'\n"
     ]
    }
   ],
   "source": [
    "# Normalize the total counts in each cell in the sampled single-cell data to 1e6\n",
    "sc.pp.normalize_total(sc_adata_sampled,target_sum=10**6)\n",
    "\n",
    "# Log-transform the data in the sampled single-cell data\n",
    "sc.pp.log1p(sc_adata_sampled)\n",
    "\n",
    "# Normalize the total counts in each cell in the spatial data to 1e6\n",
    "sc.pp.normalize_total(spatial_adata,target_sum=10**6)\n",
    "\n",
    "# Log-transform the data in the spatial data\n",
    "sc.pp.log1p(spatial_adata)\n",
    "\n",
    "# Perform PCA on the sampled single-cell data, keeping the first 50 principal components\n",
    "sc.tl.pca(sc_adata_sampled,n_comps=50)\n",
    "\n",
    "print(sc_adata_sampled)\n",
    "print(spatial_adata)"
   ]
  },
  {
   "cell_type": "code",
   "execution_count": 7,
   "metadata": {},
   "outputs": [
    {
     "name": "stdout",
     "output_type": "stream",
     "text": [
      "cuda\n",
      "expression_term: 3.569, space_term: 0.128, density_term: 0.223\n",
      "expression_term: 3.566, space_term: 0.128, density_term: 0.222\n",
      "expression_term: 3.563, space_term: 0.128, density_term: 0.220\n",
      "expression_term: 3.560, space_term: 0.128, density_term: 0.218\n",
      "expression_term: 3.557, space_term: 0.128, density_term: 0.216\n",
      "expression_term: 3.555, space_term: 0.128, density_term: 0.215\n",
      "expression_term: 3.552, space_term: 0.128, density_term: 0.214\n",
      "expression_term: 3.550, space_term: 0.128, density_term: 0.212\n",
      "expression_term: 3.548, space_term: 0.128, density_term: 0.211\n",
      "expression_term: 3.546, space_term: 0.128, density_term: 0.210\n",
      "expression_term: 3.544, space_term: 0.128, density_term: 0.209\n",
      "expression_term: 3.542, space_term: 0.128, density_term: 0.208\n",
      "expression_term: 3.540, space_term: 0.128, density_term: 0.208\n",
      "expression_term: 3.538, space_term: 0.128, density_term: 0.207\n",
      "expression_term: 3.537, space_term: 0.128, density_term: 0.206\n",
      "expression_term: 3.535, space_term: 0.128, density_term: 0.206\n",
      "expression_term: 3.534, space_term: 0.128, density_term: 0.205\n",
      "expression_term: 3.533, space_term: 0.128, density_term: 0.205\n",
      "expression_term: 3.532, space_term: 0.128, density_term: 0.204\n",
      "expression_term: 3.530, space_term: 0.128, density_term: 0.204\n",
      "expression_term: 3.529, space_term: 0.128, density_term: 0.204\n",
      "expression_term: 3.529, space_term: 0.128, density_term: 0.203\n",
      "expression_term: 3.528, space_term: 0.128, density_term: 0.203\n",
      "expression_term: 3.527, space_term: 0.128, density_term: 0.203\n",
      "expression_term: 3.526, space_term: 0.128, density_term: 0.202\n",
      "expression_term: 3.525, space_term: 0.128, density_term: 0.202\n",
      "expression_term: 3.525, space_term: 0.128, density_term: 0.202\n",
      "expression_term: 3.524, space_term: 0.128, density_term: 0.202\n",
      "expression_term: 3.524, space_term: 0.128, density_term: 0.202\n",
      "expression_term: 3.523, space_term: 0.128, density_term: 0.201\n",
      "expression_term: 3.523, space_term: 0.128, density_term: 0.201\n",
      "expression_term: 3.522, space_term: 0.128, density_term: 0.201\n",
      "expression_term: 3.522, space_term: 0.128, density_term: 0.201\n",
      "expression_term: 3.522, space_term: 0.128, density_term: 0.201\n",
      "expression_term: 3.521, space_term: 0.128, density_term: 0.201\n",
      "expression_term: 3.521, space_term: 0.128, density_term: 0.201\n",
      "expression_term: 3.521, space_term: 0.128, density_term: 0.201\n",
      "expression_term: 3.521, space_term: 0.128, density_term: 0.201\n",
      "expression_term: 3.520, space_term: 0.128, density_term: 0.201\n",
      "expression_term: 3.520, space_term: 0.128, density_term: 0.201\n",
      "expression_term: 3.520, space_term: 0.128, density_term: 0.200\n",
      "expression_term: 3.520, space_term: 0.128, density_term: 0.200\n",
      "expression_term: 3.520, space_term: 0.128, density_term: 0.200\n",
      "expression_term: 3.520, space_term: 0.128, density_term: 0.200\n",
      "expression_term: 3.520, space_term: 0.128, density_term: 0.200\n",
      "expression_term: 3.519, space_term: 0.128, density_term: 0.200\n",
      "expression_term: 3.519, space_term: 0.128, density_term: 0.200\n",
      "expression_term: 3.519, space_term: 0.128, density_term: 0.200\n",
      "expression_term: 3.519, space_term: 0.128, density_term: 0.200\n",
      "expression_term: 3.519, space_term: 0.128, density_term: 0.200\n"
     ]
    }
   ],
   "source": [
    "# Use the CELLOC library's paired_align function to align the sampled single-cell data (sc_adata_sampled) and the spatial data (spatial_adata)\n",
    "# The initial guess for the number of cells in each spot (b_init) is provided by cell_number_to_node_assignment\n",
    "# The task is set to \"mapping\", which means the function will try to map single cell to a spot\n",
    "pi_sc_sp = CELLOC.paired_align(sc_adata_sampled, spatial_adata, b_init=cell_number_to_node_assignment, task=\"mapping\")\n",
    "\n",
    "# Convert the output of the paired_align function to a pandas DataFrame\n",
    "# The index is the cell names from the sampled single-cell data, and the columns are the spot names from the spatial data\n",
    "sc_sp_map_df = pd.DataFrame(pi_sc_sp, index=sc_adata_sampled.obs_names, columns=spatial_adata.obs_names)"
   ]
  },
  {
   "cell_type": "code",
   "execution_count": 8,
   "metadata": {},
   "outputs": [
    {
     "name": "stdout",
     "output_type": "stream",
     "text": [
      "                             Predict    CellType  predict_x  predict_y\n",
      "Values                                                                \n",
      "CTTTGCGCACAACTGT  AAACAAGTATCTCCCA-1  Nornal epi       2939       1190\n",
      "CTTTGCGCACAACTGT  AAACAAGTATCTCCCA-1  Nornal epi       2939       1190\n",
      "CTTTGCGCACAACTGT  AAACAAGTATCTCCCA-1  Nornal epi       2939       1190\n",
      "CTTTGCGGTAAGGGAA  AAACAAGTATCTCCCA-1  Nornal epi       2939       1190\n",
      "CTTTGCGGTAAGGGAA  AAACAAGTATCTCCCA-1  Nornal epi       2939       1190\n",
      "...                              ...         ...        ...        ...\n",
      "TTCTTAGTCGGAGGTA  TTGTTTGTGTAAATTC-1     Myeloid        690       2693\n",
      "TTCTTAGTCGGAGGTA  TTGTTTGTGTAAATTC-1     Myeloid        690       2693\n",
      "TTCTTAGTCGGAGGTA  TTGTTTGTGTAAATTC-1     Myeloid        690       2693\n",
      "AGAGCTTGTCTAGGTT  TTGTTTGTGTAAATTC-1     Myeloid        690       2693\n",
      "AGAGCTTGTCTAGGTT  TTGTTTGTGTAAATTC-1     Myeloid        690       2693\n",
      "\n",
      "[7402 rows x 4 columns]\n"
     ]
    }
   ],
   "source": [
    "# Remove the first 5 characters from the column and index names of the DataFrame\n",
    "sc_sp_map_df.columns = [str(col)[5:] for col in sc_sp_map_df.columns]\n",
    "sc_sp_map_df.index = [str(idx)[5:] for idx in sc_sp_map_df.index]\n",
    "\n",
    "# Initialize an empty dictionary to store the results\n",
    "result_dict = {}\n",
    "\n",
    "# For each column in the DataFrame, find the cell names with the highest values\n",
    "# The number of cell names to find is determined by cell_number_to_node_assignment\n",
    "# Store the results in the result_dict dictionary\n",
    "for i, column in enumerate(sc_sp_map_df.columns.values):\n",
    "    result_dict[column] = sc_sp_map_df[column].nlargest(cell_number_to_node_assignment[i]).index\n",
    "\n",
    "# Convert the result_dict dictionary to a DataFrame\n",
    "# The 'Predict' column contains the spot names, and the 'Values' column contains the cell names\n",
    "# The 'Values' column is exploded so that each cell name has its own row\n",
    "max_column_names = pd.DataFrame({'Predict': list(result_dict.keys()), 'Values': [list(index_obj) for index_obj in result_dict.values()]}).explode('Values')\n",
    "\n",
    "# Convert the cell names in the 'Values' column to strings\n",
    "max_column_names['Values'] = max_column_names['Values'].astype(str)\n",
    "\n",
    "# Set the 'Values' column as the index of the DataFrame\n",
    "max_column_names = max_column_names.set_index('Values')\n",
    "\n",
    "# Add a new column 'CellType' to the DataFrame and initialize it with 'type'\n",
    "max_column_names=max_column_names.assign(CellType='type')\n",
    "\n",
    "# Remove rows where the index is \"nan\"\n",
    "max_column_names = max_column_names[max_column_names.index!=\"nan\"]\n",
    "\n",
    "# For each row in the DataFrame, replace 'type' in the 'CellType' column with the actual cell type from the cell_type DataFrame\n",
    "for i,cell_id in enumerate(max_column_names.index.values):\n",
    "    max_column_names.iloc[i,-1]=cell_type.loc[cell_id][0]\n",
    "\n",
    "# Reindex the coordinates_data DataFrame based on the 'Predict' column of the max_column_names DataFrame\n",
    "# This gives the predicted coordinates for each cell\n",
    "predict_coordinates=coordinates_data.reindex(max_column_names['Predict'])\n",
    "\n",
    "# Add the predicted x and y coordinates to the max_column_names DataFrame\n",
    "max_column_names['predict_x']=predict_coordinates['X'].values\n",
    "max_column_names['predict_y']=predict_coordinates['Y'].values\n",
    "\n",
    "# Print the DataFrame\n",
    "print(max_column_names)"
   ]
  },
  {
   "cell_type": "code",
   "execution_count": null,
   "metadata": {},
   "outputs": [
    {
     "ename": "",
     "evalue": "",
     "output_type": "error",
     "traceback": [
      "\u001b[1;31m运行具有“/bin/python3.11”的单元格需要ipykernel包。\n",
      "\u001b[1;31mRun the following command to install 'ipykernel' into the Python environment. \n",
      "\u001b[1;31mCommand: '/bin/python3.11 -m pip install ipykernel -U --force-reinstall'"
     ]
    }
   ],
   "source": [
    "assigned_locations_path = os.path.join(output_folder+\"mapping_results.csv\")\n",
    "max_column_names.to_csv(assigned_locations_path)"
   ]
  },
  {
   "cell_type": "code",
   "execution_count": null,
   "metadata": {},
   "outputs": [
    {
     "ename": "",
     "evalue": "",
     "output_type": "error",
     "traceback": [
      "\u001b[1;31m运行具有“/bin/python3.11”的单元格需要ipykernel包。\n",
      "\u001b[1;31mRun the following command to install 'ipykernel' into the Python environment. \n",
      "\u001b[1;31mCommand: '/bin/python3.11 -m pip install ipykernel -U --force-reinstall'"
     ]
    }
   ],
   "source": [
    "plot_results_bulk_ST_by_spot(assigned_locations=max_column_names, coordinates_data=coordinates_data, dir_out=output_folder, output_prefix=\"Celloc_mapping\")"
   ]
  }
 ],
 "metadata": {
  "kernelspec": {
   "display_name": "ywbio",
   "language": "python",
   "name": "python3"
  },
  "language_info": {
   "codemirror_mode": {
    "name": "ipython",
    "version": 3
   },
   "file_extension": ".py",
   "mimetype": "text/x-python",
   "name": "python",
   "nbconvert_exporter": "python",
   "pygments_lexer": "ipython3",
   "version": "3.8.16"
  }
 },
 "nbformat": 4,
 "nbformat_minor": 2
}
