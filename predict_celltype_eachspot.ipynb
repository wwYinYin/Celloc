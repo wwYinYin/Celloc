{
 "cells": [
  {
   "cell_type": "code",
   "execution_count": 1,
   "metadata": {},
   "outputs": [
    {
     "data": {
      "text/html": [
       "<style type='text/css'>\n",
       ".datatable table.frame { margin-bottom: 0; }\n",
       ".datatable table.frame thead { border-bottom: none; }\n",
       ".datatable table.frame tr.coltypes td {  color: #FFFFFF;  line-height: 6px;  padding: 0 0.5em;}\n",
       ".datatable .bool    { background: #DDDD99; }\n",
       ".datatable .object  { background: #565656; }\n",
       ".datatable .int     { background: #5D9E5D; }\n",
       ".datatable .float   { background: #4040CC; }\n",
       ".datatable .str     { background: #CC4040; }\n",
       ".datatable .row_index {  background: var(--jp-border-color3);  border-right: 1px solid var(--jp-border-color0);  color: var(--jp-ui-font-color3);  font-size: 9px;}\n",
       ".datatable .frame tr.coltypes .row_index {  background: var(--jp-border-color0);}\n",
       ".datatable th:nth-child(2) { padding-left: 12px; }\n",
       ".datatable .hellipsis {  color: var(--jp-cell-editor-border-color);}\n",
       ".datatable .vellipsis {  background: var(--jp-layout-color0);  color: var(--jp-cell-editor-border-color);}\n",
       ".datatable .na {  color: var(--jp-cell-editor-border-color);  font-size: 80%;}\n",
       ".datatable .footer { font-size: 9px; }\n",
       ".datatable .frame_dimensions {  background: var(--jp-border-color3);  border-top: 1px solid var(--jp-border-color0);  color: var(--jp-ui-font-color3);  display: inline-block;  opacity: 0.6;  padding: 1px 10px 1px 5px;}\n",
       "</style>\n"
      ],
      "text/plain": [
       "<IPython.core.display.HTML object>"
      ]
     },
     "metadata": {},
     "output_type": "display_data"
    }
   ],
   "source": [
    "import pandas as pd\n",
    "import scanpy as sc\n",
    "import numpy as np\n",
    "import warnings\n",
    "import datatable as dt\n",
    "from Celloc.common import estimate_cell_number_RNA_reads,read_file"
   ]
  },
  {
   "cell_type": "code",
   "execution_count": null,
   "metadata": {},
   "outputs": [],
   "source": [
    "mean_cell_numbers=5\n",
    "\n",
    "DataDir=\"./data/heart_data\"\n",
    "decon_results_path=DataDir+\"/decon_result.txt\"\n",
    "\n",
    "# Check the file type of the deconvolution results\n",
    "if decon_results_path.endswith(\"txt\"):\n",
    "    # If it's a txt file, use pandas to read it into a DataFrame\n",
    "    decon_results = pd.read_csv(decon_results_path,sep='\\t',index_col=0)\n",
    "elif decon_results_path.endswith(\"h5ad\"):\n",
    "    # If it's a h5ad file, use scanpy to read it into an AnnData object, then convert to DataFrame\n",
    "    coGCNresults= sc.read_h5ad(decon_results_path)\n",
    "    decon_results=pd.DataFrame(coGCNresults.X,index=coGCNresults.obs_names,columns=coGCNresults.var_names)\n",
    "\n",
    "# Remove duplicate columns, if any\n",
    "decon_results = decon_results.loc[:,np.unique(decon_results.columns)]\n",
    "\n",
    "# Normalize the data by dividing each cell type proportion by the total proportion in each spot\n",
    "decon_results = (decon_results.T/decon_results.sum(axis=1)).T\n",
    "\n",
    "# Fill any NaN values with 0\n",
    "decon_results = decon_results.fillna(0)\n",
    "\n",
    "print(decon_results)"
   ]
  },
  {
   "attachments": {},
   "cell_type": "markdown",
   "metadata": {},
   "source": [
    "Calculate the cell abundance of each spot separately"
   ]
  },
  {
   "cell_type": "code",
   "execution_count": null,
   "metadata": {},
   "outputs": [],
   "source": [
    "# Define the path to the spatial transcriptomics data\n",
    "st_path=DataDir+\"/spatial_count.txt\"\n",
    "\n",
    "# Read the data from the file\n",
    "st_data = read_file(st_path)\n",
    "\n",
    "# Rename the columns and rows for clarity\n",
    "st_data.columns = ['SPOT_'+str(col) for col in st_data.columns]\n",
    "st_data.index = ['GENE_'+str(idx) for idx in st_data.index]\n",
    "\n",
    "# Estimate the number of cells in each spot based on RNA reads\n",
    "cell_number_to_node_assignment = estimate_cell_number_RNA_reads(st_data, mean_cell_numbers)\n",
    "\n",
    "# Calculate the total number of cells\n",
    "number_of_cells = np.sum(cell_number_to_node_assignment)\n",
    "\n",
    "print(cell_number_to_node_assignment)\n",
    "print(cell_number_to_node_assignment.min())"
   ]
  },
  {
   "cell_type": "code",
   "execution_count": null,
   "metadata": {},
   "outputs": [],
   "source": [
    "# Convert the deconvolution results DataFrame to a numpy array\n",
    "arr_decon_results = decon_results.values\n",
    "\n",
    "# Multiply the deconvolution results by the estimated cell numbers for each spot\n",
    "# This gives the estimated number of each cell type in each spot\n",
    "celltype_number_to_node_assignment = np.array(decon_results) * cell_number_to_node_assignment.reshape(-1, 1)\n",
    "print(celltype_number_to_node_assignment)"
   ]
  },
  {
   "cell_type": "code",
   "execution_count": null,
   "metadata": {},
   "outputs": [],
   "source": [
    "# Sum the estimated number of each cell type across all spots\n",
    "celltype_number = celltype_number_to_node_assignment.sum(0)\n",
    "\n",
    "# Round up the estimated number of each cell type to the nearest integer\n",
    "celltype_number = np.ceil(celltype_number)\n",
    "\n",
    "# Convert the estimated number of each cell type to integers\n",
    "celltype_number = celltype_number.astype(int)\n",
    "\n",
    "# Create a DataFrame with the estimated number of each cell type\n",
    "cell_type_numbers = pd.DataFrame(celltype_number, index=decon_results.columns, columns=[\"cell_number\"])\n",
    "\n",
    "print(sum(cell_type_numbers.iloc[:,0]))\n",
    "print(number_of_cells)\n",
    "\n",
    "# Adjust the estimated number of the first cell type to make the total estimated number of cells match the total number of cells estimated from RNA reads\n",
    "cell_type_numbers.loc[cell_type_numbers.index[0], cell_type_numbers.columns[0]] += number_of_cells - sum(cell_type_numbers.iloc[:,0])\n",
    "\n",
    "print(len(list(celltype_number)))\n",
    "print(cell_type_numbers)"
   ]
  },
  {
   "cell_type": "code",
   "execution_count": null,
   "metadata": {},
   "outputs": [],
   "source": [
    "def adjust_matrix(X, row_sums, col_sums):\n",
    "    # Round the matrix X to the nearest integer\n",
    "    Z = np.round(X).astype(int)\n",
    "\n",
    "    for _ in range(5):\n",
    "        # Calculate the row and column sums of the matrix Z\n",
    "        Z_row_sums = np.sum(Z, axis=1)\n",
    "        Z_col_sums = np.sum(Z, axis=0)\n",
    "\n",
    "        # Find the differences between the desired and actual row and column sums\n",
    "        row_diff = row_sums - Z_row_sums\n",
    "        col_diff = col_sums - Z_col_sums\n",
    "\n",
    "        # Adjust the elements of the matrix Z based on the differences\n",
    "        for i in range(len(row_diff)):\n",
    "            for j in range(len(col_diff)):\n",
    "                if row_diff[i] > 0 and col_diff[j] > 0:\n",
    "                    adjustment = min(row_diff[i], col_diff[j])\n",
    "                    Z[i, j] += adjustment\n",
    "                    row_diff[i] -= adjustment\n",
    "                    col_diff[j] -= adjustment\n",
    "\n",
    "    return Z\n",
    "\n",
    "# Call the function to adjust the matrix\n",
    "Y = adjust_matrix(celltype_number_to_node_assignment, cell_number_to_node_assignment, celltype_number)"
   ]
  },
  {
   "cell_type": "code",
   "execution_count": null,
   "metadata": {},
   "outputs": [],
   "source": [
    "# Calculate the row and column sums of the matrix Y\n",
    "Y_row_sums = np.sum(Y, axis=1)\n",
    "Y_col_sums = np.sum(Y, axis=0)\n",
    "\n",
    "# Find the indices of the rows in Y that sum to zero\n",
    "zero_index = np.where(Y_row_sums == 0)\n",
    "\n",
    "# For these rows, replace the corresponding rows in the original cell type assignment matrix\n",
    "# with a binary version (values greater than 0.3 become 1, others become 0)\n",
    "replacement = celltype_number_to_node_assignment[zero_index]\n",
    "replacement = np.where(replacement > 0.3, 1, 0).astype(int)\n",
    "\n",
    "# Replace the zero-sum rows in Y with the binary rows\n",
    "Y[zero_index, :] = replacement\n",
    "\n",
    "# Copy the adjusted matrix Y to celltype_number_to_node_assignment\n",
    "celltype_number_to_node_assignment = Y.copy()\n",
    "\n",
    "# Print the column sums of the adjusted matrix\n",
    "print(celltype_number_to_node_assignment.sum(0))"
   ]
  },
  {
   "cell_type": "code",
   "execution_count": null,
   "metadata": {},
   "outputs": [],
   "source": [
    "# Convert the numpy array celltype_number_to_node_assignment to a pandas DataFrame\n",
    "# The index and columns are the same as those of the decon_results DataFrame\n",
    "celltype_number_to_node_assignment_df=pd.DataFrame(celltype_number_to_node_assignment,\n",
    "                                                   index=decon_results.index,\n",
    "                                                   columns=decon_results.columns)\n",
    "print(celltype_number_to_node_assignment_df.astype(int))"
   ]
  },
  {
   "cell_type": "code",
   "execution_count": null,
   "metadata": {},
   "outputs": [],
   "source": [
    "celltype_number_to_node_assignment_df.astype(int).to_csv(DataDir+\"/cell_type_number_setimate.csv\")"
   ]
  }
 ],
 "metadata": {
  "kernelspec": {
   "display_name": "ywbio",
   "language": "python",
   "name": "python3"
  },
  "language_info": {
   "codemirror_mode": {
    "name": "ipython",
    "version": 3
   },
   "file_extension": ".py",
   "mimetype": "text/x-python",
   "name": "python",
   "nbconvert_exporter": "python",
   "pygments_lexer": "ipython3",
   "version": "3.8.16"
  },
  "orig_nbformat": 4
 },
 "nbformat": 4,
 "nbformat_minor": 2
}
